{
  "nbformat": 4,
  "nbformat_minor": 0,
  "metadata": {
    "colab": {
      "name": "Untitled64.ipynb",
      "provenance": [],
      "authorship_tag": "ABX9TyNIT0O1QK+WooU8n+5wEki8",
      "include_colab_link": true
    },
    "kernelspec": {
      "name": "python3",
      "display_name": "Python 3"
    },
    "language_info": {
      "name": "python"
    }
  },
  "cells": [
    {
      "cell_type": "markdown",
      "metadata": {
        "id": "view-in-github",
        "colab_type": "text"
      },
      "source": [
        "<a href=\"https://colab.research.google.com/github/rlfwo93/algorism/blob/main/quick_sort.ipynb\" target=\"_parent\"><img src=\"https://colab.research.google.com/assets/colab-badge.svg\" alt=\"Open In Colab\"/></a>"
      ]
    },
    {
      "cell_type": "code",
      "metadata": {
        "colab": {
          "base_uri": "https://localhost:8080/"
        },
        "id": "eRiEZ3M-WVn-",
        "outputId": "5615a992-83bd-43a7-a31f-b133471f2db4"
      },
      "source": [
        "arr = [3,2,6,10]\n",
        "\n",
        "def quick_sort(arr):\n",
        "    if len(arr) <=1:\n",
        "        return arr\n",
        "    pivot = arr[0]\n",
        "    small, equal, big = [], [], []\n",
        "    for num in arr:\n",
        "      if len(str(num)) == len(str(pivot)): # 자릴수가 같을때 \n",
        "        if num < pivot:\n",
        "            small.append(num)\n",
        "        elif num > pivot:\n",
        "            big.append(num)\n",
        "        else:\n",
        "            equal.append(num)\n",
        " \n",
        "      else:  # 자릿수가 다를때\n",
        "        if str(pivot)+str(num) < str(num) + str(pivot) :  # 앞뒤를 더해서 큰값인지 구분\n",
        "            big.append(num)\n",
        "        elif str(pivot)+str(num) > str(num) + str(pivot):\n",
        "            small.append(num)\n",
        "        else:\n",
        "            equal.append(num)\n",
        "\n",
        "    return quick_sort(big) + equal + quick_sort(small) # 재귀법을 통하여 계산\n",
        "\n",
        "    \n",
        "\n",
        "def solution(arr):  # 문자열로 바꾸기 위한  메소드\n",
        "  st = \"\"\n",
        "  sum  = 0\n",
        "  num1 = quick_sort(arr)\n",
        "  for i in num1:\n",
        "    st+=str(i)\n",
        "  for i in num1: # 000일때 0으로 출력하기위해서 여러번 돌림\n",
        "    sum+=i  \n",
        "  if sum == 0:  # 모든 원소값을 더했을때 0 이었을때 조건 \n",
        "    return \"0\"\n",
        "  return st\n",
        "\n",
        "print(solution(arr))"
      ],
      "execution_count": 3,
      "outputs": [
        {
          "output_type": "stream",
          "text": [
            "63210\n"
          ],
          "name": "stdout"
        }
      ]
    }
  ]
}