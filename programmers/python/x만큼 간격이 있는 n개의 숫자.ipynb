{
  "nbformat": 4,
  "nbformat_minor": 0,
  "metadata": {
    "colab": {
      "name": "Untitled73.ipynb",
      "provenance": [],
      "authorship_tag": "ABX9TyOWB4Jw8lX2b2szsMNTDfXY",
      "include_colab_link": true
    },
    "kernelspec": {
      "name": "python3",
      "display_name": "Python 3"
    },
    "language_info": {
      "name": "python"
    }
  },
  "cells": [
    {
      "cell_type": "markdown",
      "metadata": {
        "id": "view-in-github",
        "colab_type": "text"
      },
      "source": [
        "<a href=\"https://colab.research.google.com/github/rlfwo93/algorism/blob/main/programmers/python/x%EB%A7%8C%ED%81%BC%20%EA%B0%84%EA%B2%A9%EC%9D%B4%20%EC%9E%88%EB%8A%94%20n%EA%B0%9C%EC%9D%98%20%EC%88%AB%EC%9E%90.ipynb\" target=\"_parent\"><img src=\"https://colab.research.google.com/assets/colab-badge.svg\" alt=\"Open In Colab\"/></a>"
      ]
    },
    {
      "cell_type": "markdown",
      "metadata": {
        "id": "buwWIC-DMmi1"
      },
      "source": [
        "문제 설명\n",
        "\n",
        "함수 solution은 정수 x와 자연수 n을 입력 받아, x부터 시작해 x씩 증가하는 숫자를 n개 지니는 리스트를 리턴해야 합니다.\n",
        "\n",
        " 다음 제한 조건을 보고, 조건을 만족하는 함수, solution을 완성해주세요.\n",
        "\n",
        "제한 조건\n",
        "\n",
        "x는 -10000000 이상, 10000000 이하인 정수입니다.\n",
        "\n",
        "n은 1000 이하인 자연수입니다.\n",
        "\n",
        "입출력 예\n",
        "\n",
        "x\tn\tanswer\n",
        "\n",
        "2\t5\t[2,4,6,8,10]\n",
        "\n",
        "4\t3\t[4,8,12]\n",
        "\n",
        "-4\t2\t[-4, -8]\n",
        "\n",
        "\n",
        "https://programmers.co.kr/learn/courses/30/lessons/12954"
      ]
    },
    {
      "cell_type": "code",
      "metadata": {
        "id": "BO8wEk91Mx3K"
      },
      "source": [
        "def solution(x, n):\n",
        "    answer = []\n",
        "    for i in range(1,n+1):\n",
        "        answer.append(i*x)\n",
        "    return answer"
      ],
      "execution_count": 10,
      "outputs": []
    }
  ]
}