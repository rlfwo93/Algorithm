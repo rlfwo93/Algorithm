{
  "nbformat": 4,
  "nbformat_minor": 0,
  "metadata": {
    "colab": {
      "name": "Untitled73.ipynb",
      "provenance": [],
      "authorship_tag": "ABX9TyNhXzN/1veRaJRLrkgJde+S",
      "include_colab_link": true
    },
    "kernelspec": {
      "name": "python3",
      "display_name": "Python 3"
    },
    "language_info": {
      "name": "python"
    }
  },
  "cells": [
    {
      "cell_type": "markdown",
      "metadata": {
        "id": "view-in-github",
        "colab_type": "text"
      },
      "source": [
        "<a href=\"https://colab.research.google.com/github/rlfwo93/algorism/blob/main/programmers/python/%EB%AA%A8%EC%9D%98%EA%B3%A0%EC%82%AC.ipynb\" target=\"_parent\"><img src=\"https://colab.research.google.com/assets/colab-badge.svg\" alt=\"Open In Colab\"/></a>"
      ]
    },
    {
      "cell_type": "markdown",
      "metadata": {
        "id": "buwWIC-DMmi1"
      },
      "source": [
        "문제 설명\n",
        "\n",
        "\n",
        "수포자는 수학을 포기한 사람의 준말입니다. 수포자 삼인방은 모의고사에 수학 문제를 전부 찍으려 합니다. 수포자는 1번 문제부터 마지막 문제까지 다음과 같이 찍습니다.\n",
        "\n",
        "\n",
        "1번 수포자가 찍는 방식: 1, 2, 3, 4, 5, 1, 2, 3, 4, 5, ...\n",
        "2번 수포자가 찍는 방식: 2, 1, 2, 3, 2, 4, 2, 5, 2, 1, 2, 3, 2, 4, 2, 5, ...\n",
        "3번 수포자가 찍는 방식: 3, 3, 1, 1, 2, 2, 4, 4, 5, 5, 3, 3, 1, 1, 2, 2, 4, 4, 5, 5, ...\n",
        "\n",
        "\n",
        "1번 문제부터 마지막 문제까지의 정답이 순서대로 들은 배열 answers가 주어졌을 때, 가장 많은 문제를 맞힌 사람이 누구인지 배열에 담아 return 하도록 solution 함수를 작성해주세요.\n",
        "\n",
        "\n",
        "제한 조건\n",
        "시험은 최대 10,000 문제로 구성되어있습니다.\n",
        "문제의 정답은 1, 2, 3, 4, 5중 하나입니다.\n",
        "가장 높은 점수를 받은 사람이 여럿일 경우, return하는 값을 오름차순 정렬해주세요.\n",
        "입출력 예\n",
        "answers\treturn\n",
        "[1,2,3,4,5]\t[1]\n",
        "[1,3,2,4,2]\t[1,2,3]\n",
        "입출력 예 설명\n",
        "입출력 예 #1\n",
        "\n",
        "\n",
        "수포자 1은 모든 문제를 맞혔습니다.\n",
        "수포자 2는 모든 문제를 틀렸습니다.\n",
        "수포자 3은 모든 문제를 틀렸습니다.\n",
        "따라서 가장 문제를 많이 맞힌 사람은 수포자 1입니다.\n",
        "\n",
        "\n",
        "입출력 예 #2\n",
        "\n",
        "모든 사람이 2문제씩을 맞췄습니다.\n",
        "\n",
        "https://programmers.co.kr/learn/courses/30/lessons/42840"
      ]
    },
    {
      "cell_type": "code",
      "metadata": {
        "id": "BO8wEk91Mx3K",
        "colab": {
          "base_uri": "https://localhost:8080/"
        },
        "outputId": "9284ff85-2f3f-4fe9-dbd7-a88031fb8053"
      },
      "source": [
        "def solution(answers):\n",
        "    answer = [0,0,0] #수포자들이 맞춘 답을 카운팅 함\n",
        "\n",
        "    result=[] # 제일 많이 맞춘 수포자를 담음.\n",
        "\n",
        "    #수포자들이 찍을 답을 담고, 문제의 수만큼 배열을 추가시켜줌.\n",
        "    a = [1, 2, 3, 4, 5] * ((len(answers) // 5) + 1)\n",
        "    b = [2, 1, 2, 3, 2, 4, 2, 5] * ((len(answers) // 8) + 1)\n",
        "    c = [3, 3, 1, 1, 2, 2, 4, 4, 5, 5] * ((len(answers) // 10) + 1)\n",
        "\n",
        "\n",
        "\n",
        "    for i in range(len(answers)):  # 각각의 수포자들이 문제를 맞추면 1씩증가함\n",
        "        if a[i] == answers[i]:\n",
        "            answer[0] += 1\n",
        "        if b[i] == answers[i]:\n",
        "            answer[1] += 1\n",
        "        if c[i] == answers[i]:\n",
        "            answer[2] += 1\n",
        "\n",
        "\n",
        "    for i in range(len(answer)): # 수포자들이 맞춘 갯수를 탐색하여 제일 많이 맞춘 수포자 찾아냄.\n",
        "        if max(answer) == answer[i]:\n",
        "            result.append(i+1) #인덱스는 0부터 시작하기떄문에 +1을 해줌.\n",
        "\n",
        "    return result\n",
        "\n",
        "\n",
        "print(solution([1, 2, 3, 4, 5, 6, 7, 8, 9]))\n",
        "\n"
      ],
      "execution_count": 2,
      "outputs": [
        {
          "output_type": "stream",
          "text": [
            "[1]\n"
          ],
          "name": "stdout"
        }
      ]
    }
  ]
}