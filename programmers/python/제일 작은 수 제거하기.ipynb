{
  "nbformat": 4,
  "nbformat_minor": 0,
  "metadata": {
    "colab": {
      "name": "Untitled73.ipynb",
      "provenance": [],
      "authorship_tag": "ABX9TyNm4O375EY3EZ0oxkfdx0w3",
      "include_colab_link": true
    },
    "kernelspec": {
      "name": "python3",
      "display_name": "Python 3"
    },
    "language_info": {
      "name": "python"
    }
  },
  "cells": [
    {
      "cell_type": "markdown",
      "metadata": {
        "id": "view-in-github",
        "colab_type": "text"
      },
      "source": [
        "<a href=\"https://colab.research.google.com/github/rlfwo93/algorism/blob/main/programmers/python/%EC%A0%9C%EC%9D%BC%20%EC%9E%91%EC%9D%80%20%EC%88%98%20%EC%A0%9C%EA%B1%B0%ED%95%98%EA%B8%B0.ipynb\" target=\"_parent\"><img src=\"https://colab.research.google.com/assets/colab-badge.svg\" alt=\"Open In Colab\"/></a>"
      ]
    },
    {
      "cell_type": "markdown",
      "metadata": {
        "id": "buwWIC-DMmi1"
      },
      "source": [
        "문제 설명\n",
        "\n",
        "정수를 저장한 배열, arr 에서 가장 작은 수를 제거한 배열을 리턴하는 함수, \n",
        "solution을 완성해주세요. \n",
        "\n",
        "단, 리턴하려는 배열이 빈 배열인 경우엔 배열에 -1을 채워 리턴하세요.\n",
        "\n",
        "예를들어 arr이 [4,3,2,1]인 경우는 [4,3,2]를 리턴 하고, [10]면 [-1]을 리턴 합니다.\n",
        "\n",
        "제한 조건\n",
        "\n",
        "arr은 길이 1 이상인 배열입니다.\n",
        "\n",
        "인덱스 i, j에 대해 i ≠ j이면 arr[i] ≠ arr[j] 입니다.\n",
        "\n",
        "입출력 예\n",
        "\n",
        "arr\treturn\n",
        "\n",
        "[4,3,2,1]\t[4,3,2]\n",
        "\n",
        "[10]\t[-1]\n",
        "\n",
        "\n",
        "\n",
        "https://programmers.co.kr/learn/courses/30/lessons/12935"
      ]
    },
    {
      "cell_type": "code",
      "metadata": {
        "id": "BO8wEk91Mx3K"
      },
      "source": [
        "def solution(arr):\n",
        "    answer = []\n",
        "    arrRe=arr[:]\n",
        "    if len(arr)<2:\n",
        "        answer.append(-1)\n",
        "    else:\n",
        "      arrRe.sort()\n",
        "      Mostsmall=arrRe[0]\n",
        "      for i in range(0,len(arr)):\n",
        "          if arr[i]==arrRe[0]:\n",
        "              del arr[i]\n",
        "              answer=arr[:]\n",
        "              break\n",
        "\n",
        "    return answer"
      ],
      "execution_count": 10,
      "outputs": []
    }
  ]
}