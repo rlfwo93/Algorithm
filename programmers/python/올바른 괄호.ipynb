{
  "nbformat": 4,
  "nbformat_minor": 0,
  "metadata": {
    "colab": {
      "name": "Untitled73.ipynb",
      "provenance": [],
      "authorship_tag": "ABX9TyMl15HJiRvKa3h9Wo7Gbnl9",
      "include_colab_link": true
    },
    "kernelspec": {
      "name": "python3",
      "display_name": "Python 3"
    },
    "language_info": {
      "name": "python"
    }
  },
  "cells": [
    {
      "cell_type": "markdown",
      "metadata": {
        "id": "view-in-github",
        "colab_type": "text"
      },
      "source": [
        "<a href=\"https://colab.research.google.com/github/rlfwo93/algorism/blob/main/programmers/python/%EC%98%AC%EB%B0%94%EB%A5%B8%20%EA%B4%84%ED%98%B8.ipynb\" target=\"_parent\"><img src=\"https://colab.research.google.com/assets/colab-badge.svg\" alt=\"Open In Colab\"/></a>"
      ]
    },
    {
      "cell_type": "markdown",
      "metadata": {
        "id": "buwWIC-DMmi1"
      },
      "source": [
        "문제 설명\n",
        "\n",
        "괄호가 바르게 짝지어졌다는 것은 '(' 문자로 열렸으면 반드시 짝지어서 ')' 문자로 닫혀야 한다는 뜻입니다. \n",
        "\n",
        "예를 들어\n",
        "\n",
        "\"()()\" 또는 \"(())()\" 는 올바른 괄호입니다.\n",
        "\n",
        "\")()(\" 또는 \"(()(\" 는 올바르지 않은 괄호입니다.\n",
        "\n",
        "'(' 또는 ')' 로만 이루어진 문자열 s가 주어졌을 때, 문자열 s가 올바른 괄호이면 true를 return 하고, 올바르지 않은 괄호이면 false를 return 하는 solution 함수를 완성해 주세요.\n",
        "\n",
        "제한사항\n",
        "\n",
        "문자열 s의 길이 : 100,000 이하의 자연수\n",
        "\n",
        "문자열 s는 '(' 또는 ')' 로만 이루어져 있습니다.\n",
        "\n",
        "입출력 예\n",
        "\n",
        "s\tanswer\n",
        "\n",
        "\"()()\"\ttrue\n",
        "\n",
        "\"(())()\"\ttrue\n",
        "\n",
        "\")()(\"\tfalse\n",
        "\n",
        "\"(()(\"\tfalse\n",
        "\n",
        "입출력 예 설명\n",
        "\n",
        "입출력 예 #1,2,3,4\n",
        "\n",
        "문제의 예시와 같습니다.\n",
        "\n",
        "\n",
        "https://programmers.co.kr/learn/courses/30/lessons/12909"
      ]
    },
    {
      "cell_type": "code",
      "metadata": {
        "id": "BO8wEk91Mx3K"
      },
      "source": [
        "def is_pair(s):\n",
        "\n",
        "    x = 0\n",
        "    for w in s:\n",
        "        if x < 0:\n",
        "            break\n",
        "        x = x+1 if w==\"(\" else x-1 if w==\")\" else x\n",
        "    return x==0"
      ],
      "execution_count": 10,
      "outputs": []
    }
  ]
}