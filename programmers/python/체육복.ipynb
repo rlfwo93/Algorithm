{
  "nbformat": 4,
  "nbformat_minor": 0,
  "metadata": {
    "colab": {
      "name": "Untitled73.ipynb",
      "provenance": [],
      "authorship_tag": "ABX9TyO7qths/wY+if6QuprpSJt1",
      "include_colab_link": true
    },
    "kernelspec": {
      "name": "python3",
      "display_name": "Python 3"
    },
    "language_info": {
      "name": "python"
    }
  },
  "cells": [
    {
      "cell_type": "markdown",
      "metadata": {
        "id": "view-in-github",
        "colab_type": "text"
      },
      "source": [
        "<a href=\"https://colab.research.google.com/github/rlfwo93/algorism/blob/main/programmers/python/%EC%B2%B4%EC%9C%A1%EB%B3%B5.ipynb\" target=\"_parent\"><img src=\"https://colab.research.google.com/assets/colab-badge.svg\" alt=\"Open In Colab\"/></a>"
      ]
    },
    {
      "cell_type": "markdown",
      "metadata": {
        "id": "buwWIC-DMmi1"
      },
      "source": [
        "문제 설명\n",
        "\n",
        "\n",
        "점심시간에 도둑이 들어, 일부 학생이 체육복을 도난당했습니다. 다행히 여벌 체육복이 있는 학생이 이들에게 체육복을 빌려주려 합니다. 학생들의 번호는 체격 순으로 매겨져 있어, 바로 앞번호의 학생이나 바로 뒷번호의 학생에게만 체육복을 빌려줄 수 있습니다. 예를 들어, 4번 학생은 3번 학생이나 5번 학생에게만 체육복을 빌려줄 수 있습니다. 체육복이 없으면 수업을 들을 수 없기 때문에 체육복을 적절히 빌려 최대한 많은 학생이 체육수업을 들어야 합니다.\n",
        "\n",
        "\n",
        "전체 학생의 수 n, 체육복을 도난당한 학생들의 번호가 담긴 배열 lost, 여벌의 체육복을 가져온 학생들의 번호가 담긴 배열 reserve가 매개변수로 주어질 때, 체육수업을 들을 수 있는 학생의 최댓값을 return 하도록 solution 함수를 작성해주세요.\n",
        "\n",
        "\n",
        "제한사항\n",
        "전체 학생의 수는 2명 이상 30명 이하입니다.\n",
        "체육복을 도난당한 학생의 수는 1명 이상 n명 이하이고 중복되는 번호는 없습니다.\n",
        "여벌의 체육복을 가져온 학생의 수는 1명 이상 n명 이하이고 중복되는 번호는 없습니다.\n",
        "\n",
        "여벌 체육복이 있는 학생만 다른 학생에게 체육복을 빌려줄 수 있습니다.\n",
        "여벌 체육복을 가져온 학생이 체육복을 도난당했을 수 있습니다. 이때 이 학생은 체육복을 하나만 도난당했다고 가정하며, 남은 체육복이 하나이기에 다른 학생에게는 체육복을 빌려줄 수 없습니다.\n",
        "입출력 예\n",
        "n\tlost\treserve\treturn\n",
        "5\t[2, 4]\t[1, 3, 5]\t5\n",
        "5\t[2, 4]\t[3]\t4\n",
        "3\t[3]\t[1]\t2\n",
        "입출력 예 설명\n",
        "예제 #1\n",
        "1번 학생이 2번 학생에게 체육복을 빌려주고, 3번 학생이나 5번 학생이 4번 학생에게 체육복을 빌려주면 학생 5명이 체육수업을 들을 수 있습니다.\n",
        "\n",
        "\n",
        "예제 #2\n",
        "3번 학생이 2번 학생이나 4번 학생에게 체육복을 빌려주면 학생 4명이 체육수업을 들을 수 있습니다.\n",
        "\n",
        "출처\n",
        "\n",
        "※ 공지 - 2019년 2월 18일 지문이 리뉴얼되었습니다.\n",
        "\n",
        "※ 공지 - 2019년 2월 27일, 28일 테스트케이스가 추가되었습니다.\n",
        "\n",
        "https://programmers.co.kr/learn/courses/30/lessons/42862"
      ]
    },
    {
      "cell_type": "code",
      "metadata": {
        "id": "BO8wEk91Mx3K"
      },
      "source": [
        "def solution(n, lost, reserve):\n",
        "    answer = 0\n",
        "    n-=len(lost) #잃어버린 학생 \n",
        "    lost.sort()\n",
        "    reserve.sort()\n",
        "    for i in range(len(reserve)):\n",
        "        for j in range(len(lost)):\n",
        "            if reserve[i]==lost[j]:\n",
        "                reserve[i]=100\n",
        "                lost[j]=50\n",
        "                answer += 1\n",
        "\n",
        "    for a in range(len(reserve)):\n",
        "        for b in range(len(lost)):\n",
        "            if reserve[a]==lost[b]+1 or reserve[a]==lost[b]-1:\n",
        "                reserve[a]=1000\n",
        "                lost[b]=500\n",
        "                answer+=1\n",
        "\n",
        "\n",
        "    return answer+n"
      ],
      "execution_count": null,
      "outputs": []
    }
  ]
}