{
  "nbformat": 4,
  "nbformat_minor": 0,
  "metadata": {
    "colab": {
      "name": "Untitled73.ipynb",
      "provenance": [],
      "authorship_tag": "ABX9TyPxsmpnR89pbWs06cUbqcXF",
      "include_colab_link": true
    },
    "kernelspec": {
      "name": "python3",
      "display_name": "Python 3"
    },
    "language_info": {
      "name": "python"
    }
  },
  "cells": [
    {
      "cell_type": "markdown",
      "metadata": {
        "id": "view-in-github",
        "colab_type": "text"
      },
      "source": [
        "<a href=\"https://colab.research.google.com/github/rlfwo93/algorism/blob/main/programmers/python/%EB%AC%B8%EC%9E%90%EC%97%B4%20%EB%82%B4%EB%A6%BC%EC%B0%A8%EC%88%9C%EC%9C%BC%EB%A1%9C%20%EB%B0%B0%EC%B9%98.ipynb\" target=\"_parent\"><img src=\"https://colab.research.google.com/assets/colab-badge.svg\" alt=\"Open In Colab\"/></a>"
      ]
    },
    {
      "cell_type": "markdown",
      "metadata": {
        "id": "buwWIC-DMmi1"
      },
      "source": [
        "문제 설명\n",
        "\n",
        "문자열 s에 나타나는 문자를 큰것부터 작은 순으로 정렬해 새로운 문자열을 리턴하는 함수, solution을 완성해주세요.\n",
        "\n",
        "s는 영문 대소문자로만 구성되어 있으며, 대문자는 소문자보다 작은 것으로 간주합니다.\n",
        "\n",
        "제한 사항\n",
        "\n",
        "str은 길이 1 이상인 문자열입니다.\n",
        "입출력 예\n",
        "\n",
        "https://programmers.co.kr/learn/courses/30/lessons/12917"
      ]
    },
    {
      "cell_type": "code",
      "metadata": {
        "id": "BO8wEk91Mx3K"
      },
      "source": [
        "def solution(s):\n",
        "    arr=[]\n",
        "    answer=\"\"\n",
        "    for i in range(0,len(s)):\n",
        "        arr.append(s[i:i+1])\n",
        "\n",
        "    arr.sort()\n",
        "    arr.reverse()\n",
        "    answer=\"\".join(arr) #리스트의 각 단어들을 한 문장으로 조립할때는 단어들 사이마다 공백을 넣어줘야 한다.\n",
        "    return answer"
      ],
      "execution_count": 6,
      "outputs": []
    }
  ]
}