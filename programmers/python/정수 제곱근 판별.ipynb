{
  "nbformat": 4,
  "nbformat_minor": 0,
  "metadata": {
    "colab": {
      "name": "Untitled73.ipynb",
      "provenance": [],
      "authorship_tag": "ABX9TyNRHl7g7hSLwZiHHT9zds3G",
      "include_colab_link": true
    },
    "kernelspec": {
      "name": "python3",
      "display_name": "Python 3"
    },
    "language_info": {
      "name": "python"
    }
  },
  "cells": [
    {
      "cell_type": "markdown",
      "metadata": {
        "id": "view-in-github",
        "colab_type": "text"
      },
      "source": [
        "<a href=\"https://colab.research.google.com/github/rlfwo93/algorism/blob/main/programmers/python/%EC%A0%95%EC%88%98%20%EC%A0%9C%EA%B3%B1%EA%B7%BC%20%ED%8C%90%EB%B3%84.ipynb\" target=\"_parent\"><img src=\"https://colab.research.google.com/assets/colab-badge.svg\" alt=\"Open In Colab\"/></a>"
      ]
    },
    {
      "cell_type": "markdown",
      "metadata": {
        "id": "buwWIC-DMmi1"
      },
      "source": [
        "문제 설명\n",
        "\n",
        "임의의 양의 정수 n에 대해, n이 어떤 양의 정수 x의 제곱인지 아닌지 판단하려 합니다.\n",
        "\n",
        "n이 양의 정수 x의 제곱이라면 x+1의 제곱을 리턴하고, n이 양의 정수 x의 제곱이 아니라면 -1을 리턴하는 함수를 완성하세요.\n",
        "\n",
        "제한 사항\n",
        "\n",
        "n은 1이상, 50000000000000 이하인 양의 정수입니다.\n",
        "\n",
        "입출력 예\n",
        "\n",
        "n\treturn\n",
        "\n",
        "121\t144\n",
        "\n",
        "3\t-1\n",
        "\n",
        "입출력 예 설명\n",
        "\n",
        "입출력 예#1\n",
        "\n",
        "121은 양의 정수 11의 제곱이므로, (11+1)를 제곱한 144를 리턴합니다.\n",
        "\n",
        "입출력 예#2\n",
        "\n",
        "3은 양의 정수의 제곱이 아니므로, -1을 리턴합니다.\n",
        "\n",
        "\n",
        "https://programmers.co.kr/learn/courses/30/lessons/12934"
      ]
    },
    {
      "cell_type": "code",
      "metadata": {
        "id": "BO8wEk91Mx3K"
      },
      "source": [
        "import  math\n",
        "def solution(n):\n",
        "    answer = 0\n",
        "    flag= int(math.sqrt(n))\n",
        "    for i in range(1,flag+1):\n",
        "        if i*i==n:\n",
        "            answer=(i+1)*(i+1)\n",
        "            return answer\n",
        "    return -1"
      ],
      "execution_count": 10,
      "outputs": []
    }
  ]
}