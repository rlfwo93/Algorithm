{
  "nbformat": 4,
  "nbformat_minor": 0,
  "metadata": {
    "colab": {
      "name": "Untitled73.ipynb",
      "provenance": [],
      "authorship_tag": "ABX9TyMo3cjDO7itpyAXpbg5MAmT",
      "include_colab_link": true
    },
    "kernelspec": {
      "name": "python3",
      "display_name": "Python 3"
    },
    "language_info": {
      "name": "python"
    }
  },
  "cells": [
    {
      "cell_type": "markdown",
      "metadata": {
        "id": "view-in-github",
        "colab_type": "text"
      },
      "source": [
        "<a href=\"https://colab.research.google.com/github/rlfwo93/algorism/blob/main/programmers/python/%EB%AC%B8%EC%9E%90%EC%97%B4%20%EB%82%B4%20p%EC%99%80%20y%EC%9D%98%20%EA%B0%AF%EC%88%98.ipynb\" target=\"_parent\"><img src=\"https://colab.research.google.com/assets/colab-badge.svg\" alt=\"Open In Colab\"/></a>"
      ]
    },
    {
      "cell_type": "markdown",
      "metadata": {
        "id": "buwWIC-DMmi1"
      },
      "source": [
        "문제 설명\n",
        "\n",
        "대문자와 소문자가 섞여있는 문자열 s가 주어집니다. s에 'p'의 개수와 'y'의 개수를 비교해 같으면 True, 다르면 False를 return 하는 solution를 완성하세요. 'p', 'y' 모두 하나도 없는 경우는 항상 True를 리턴합니다. 단, 개수를 비교할 때 대문자와 소문자는 구별하지 않습니다.\n",
        "\n",
        "예를 들어 s가 \"pPoooyY\"면 true를 return하고 \"Pyy\"라면 false를 return합니다.\n",
        "\n",
        "제한사항\n",
        "\n",
        "문자열 s의 길이 : 50 이하의 자연수\n",
        "문자열 s는 알파벳으로만 이루어져 있습니다.\n",
        "\n",
        "https://programmers.co.kr/learn/courses/30/lessons/12916"
      ]
    },
    {
      "cell_type": "code",
      "metadata": {
        "id": "BO8wEk91Mx3K"
      },
      "source": [
        "def solution(s):\n",
        "    answer = True\n",
        "    count=0\n",
        "    count1=0\n",
        "    for i in range(len(s)):\n",
        "        if s[i]=='p' or s[i]=='P' :\n",
        "            count+=1\n",
        "        elif  s[i]=='y' or s[i]=='Y' :\n",
        "            count1+=1\n",
        "\n",
        "    if count==count1:\n",
        "        answer=True\n",
        "    else:\n",
        "        answer=False\n",
        "    return answer"
      ],
      "execution_count": 5,
      "outputs": []
    }
  ]
}