{
  "nbformat": 4,
  "nbformat_minor": 0,
  "metadata": {
    "colab": {
      "name": "Untitled73.ipynb",
      "provenance": [],
      "authorship_tag": "ABX9TyN0OcCc9SVw5ypQmH91Ff4W",
      "include_colab_link": true
    },
    "kernelspec": {
      "name": "python3",
      "display_name": "Python 3"
    },
    "language_info": {
      "name": "python"
    }
  },
  "cells": [
    {
      "cell_type": "markdown",
      "metadata": {
        "id": "view-in-github",
        "colab_type": "text"
      },
      "source": [
        "<a href=\"https://colab.research.google.com/github/rlfwo93/algorism/blob/main/programmers/python/%EC%A7%9D%EC%88%98%EC%99%80%20%ED%99%80%EC%88%98.ipynb\" target=\"_parent\"><img src=\"https://colab.research.google.com/assets/colab-badge.svg\" alt=\"Open In Colab\"/></a>"
      ]
    },
    {
      "cell_type": "markdown",
      "metadata": {
        "id": "buwWIC-DMmi1"
      },
      "source": [
        "문제 설명\n",
        "\n",
        "정수 num이 짝수일 경우 \"Even\"을 반환하고 홀수인 경우 \"Odd\"를 반환하는 함수, solution을 완성해주세요.\n",
        "\n",
        "\n",
        "제한 조건\n",
        "\n",
        "num은 int 범위의 정수입니다.\n",
        "\n",
        "0은 짝수입니다.\n",
        "\n",
        "입출력 예\n",
        "\n",
        "num\treturn\n",
        "\n",
        "3\t\"Odd\"\n",
        "\n",
        "4\t\"Even\"\n",
        "\n",
        "\n",
        "https://programmers.co.kr/learn/courses/30/lessons/12937"
      ]
    },
    {
      "cell_type": "code",
      "metadata": {
        "id": "BO8wEk91Mx3K"
      },
      "source": [
        "def solution(num):\n",
        "    answer = ''\n",
        "    if num%2==0:\n",
        "        answer=\"Even\"\n",
        "    else:\n",
        "        answer=\"Odd\"\n",
        "    return answer"
      ],
      "execution_count": 10,
      "outputs": []
    }
  ]
}