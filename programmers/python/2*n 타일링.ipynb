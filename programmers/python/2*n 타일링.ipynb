{
  "nbformat": 4,
  "nbformat_minor": 0,
  "metadata": {
    "colab": {
      "name": "Untitled75.ipynb",
      "provenance": [],
      "authorship_tag": "ABX9TyO/UIJh4myz9EvZZ4HnJM7f",
      "include_colab_link": true
    },
    "kernelspec": {
      "name": "python3",
      "display_name": "Python 3"
    },
    "language_info": {
      "name": "python"
    }
  },
  "cells": [
    {
      "cell_type": "markdown",
      "metadata": {
        "id": "view-in-github",
        "colab_type": "text"
      },
      "source": [
        "<a href=\"https://colab.research.google.com/github/rlfwo93/algorism/blob/main/programmers/python/2*n%20%ED%83%80%EC%9D%BC%EB%A7%81.ipynb\" target=\"_parent\"><img src=\"https://colab.research.google.com/assets/colab-badge.svg\" alt=\"Open In Colab\"/></a>"
      ]
    },
    {
      "cell_type": "markdown",
      "metadata": {
        "id": "5PQWqioG6mfs"
      },
      "source": [
        "# **2 x n 타일링**\n",
        "문제 설명\n",
        "가로 길이가 2이고 세로의 길이가 1인 직사각형모양의 타일이 있습니다. 이 직사각형 타일을 이용하여 세로의 길이가 2이고 가로의 길이가 n인 바닥을 가득 채우려고 합니다. 타일을 채울 때는 다음과 같이 2가지 방법이 있습니다.\n",
        "\n",
        "타일을 가로로 배치 하는 경우\n",
        "타일을 세로로 배치 하는 경우\n",
        "예를들어서 n이 7인 직사각형은 다음과 같이 채울 수 있습니다.\n",
        "\n",
        "Imgur\n",
        "\n",
        "직사각형의 가로의 길이 n이 매개변수로 주어질 때, 이 직사각형을 채우는 방법의 수를 return 하는 solution 함수를 완성해주세요.\n",
        "\n",
        "제한사항\n",
        "가로의 길이 n은 60,000이하의 자연수 입니다.\n",
        "경우의 수가 많아 질 수 있으므로, 경우의 수를 1,000,000,007으로 나눈 나머지를 return해주세요.\n",
        "\n",
        "\n",
        "https://programmers.co.kr/learn/courses/30/lessons/12900 프로그래머스\n",
        "\n",
        "https://www.acmicpc.net/problem/11726   백준"
      ]
    },
    {
      "cell_type": "markdown",
      "metadata": {
        "id": "hJtbI4Gr6waB"
      },
      "source": [
        "# **프로그래머스**"
      ]
    },
    {
      "cell_type": "code",
      "metadata": {
        "colab": {
          "base_uri": "https://localhost:8080/"
        },
        "id": "5i9Jo-vzvDPw",
        "outputId": "54bae2cb-ec6c-4950-bae5-72fe8396f5cb"
      },
      "source": [
        "def solution(b):\n",
        "  a = [1,2]\n",
        "  if b == 1:\n",
        "    return 1\n",
        "  elif b == 2:\n",
        "    return 2\n",
        "  for i in range(2,b):\n",
        "    a.append((a[i-2]+a[i-1])%1000000007)\n",
        "  return a[b-1]\n",
        "\n",
        "\n",
        "solution(int(input()))"
      ],
      "execution_count": 55,
      "outputs": [
        {
          "output_type": "stream",
          "text": [
            "9\n"
          ],
          "name": "stdout"
        },
        {
          "output_type": "execute_result",
          "data": {
            "text/plain": [
              "55"
            ]
          },
          "metadata": {
            "tags": []
          },
          "execution_count": 55
        }
      ]
    },
    {
      "cell_type": "markdown",
      "metadata": {
        "id": "1GHBXoNC6yEc"
      },
      "source": [
        "# **백준**"
      ]
    },
    {
      "cell_type": "code",
      "metadata": {
        "colab": {
          "base_uri": "https://localhost:8080/"
        },
        "id": "-oBAClZu2RsV",
        "outputId": "ab171675-bacd-4079-a9a3-ad38b60e556f"
      },
      "source": [
        "def solution(b):\n",
        "  a = [1,2]\n",
        "  if b == 1:\n",
        "    return 1\n",
        "  elif b == 2:\n",
        "    return 2\n",
        "  for i in range(2,b):\n",
        "    a.append((a[i-2]+a[i-1])%10007)\n",
        "  return a[b-1]\n",
        "\n",
        "print(solution(int(input())))"
      ],
      "execution_count": 57,
      "outputs": [
        {
          "output_type": "stream",
          "text": [
            "9\n",
            "55\n"
          ],
          "name": "stdout"
        }
      ]
    }
  ]
}