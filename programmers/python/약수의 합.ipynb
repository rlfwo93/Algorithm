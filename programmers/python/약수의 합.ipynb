{
  "nbformat": 4,
  "nbformat_minor": 0,
  "metadata": {
    "colab": {
      "name": "Untitled73.ipynb",
      "provenance": [],
      "authorship_tag": "ABX9TyOvhbrgfETYULYM5zWjPpIz",
      "include_colab_link": true
    },
    "kernelspec": {
      "name": "python3",
      "display_name": "Python 3"
    },
    "language_info": {
      "name": "python"
    }
  },
  "cells": [
    {
      "cell_type": "markdown",
      "metadata": {
        "id": "view-in-github",
        "colab_type": "text"
      },
      "source": [
        "<a href=\"https://colab.research.google.com/github/rlfwo93/algorism/blob/main/programmers/python/%EC%95%BD%EC%88%98%EC%9D%98%20%ED%95%A9.ipynb\" target=\"_parent\"><img src=\"https://colab.research.google.com/assets/colab-badge.svg\" alt=\"Open In Colab\"/></a>"
      ]
    },
    {
      "cell_type": "markdown",
      "metadata": {
        "id": "buwWIC-DMmi1"
      },
      "source": [
        "문제 설명\n",
        "\n",
        "정수 n을 입력받아 n의 약수를 모두 더한 값을 리턴하는 함수, solution을 완성해주세요.\n",
        "\n",
        "제한 사항\n",
        "\n",
        "n은 0 이상 3000이하인 정수입니다.\n",
        "\n",
        "입출력 예\n",
        "\n",
        "n\treturn\n",
        "\n",
        "12\t28\n",
        "5\t6\n",
        "\n",
        "입출력 예 설명\n",
        "\n",
        "입출력 예 #1\n",
        "\n",
        "12의 약수는 1, 2, 3, 4, 6, 12입니다. 이를 모두 더하면 28입니다.\n",
        "\n",
        "입출력 예 #2\n",
        "\n",
        "5의 약수는 1, 5입니다. 이를 모두 더하면 6입니다.\n",
        "\n",
        "https://programmers.co.kr/learn/courses/30/lessons/12928"
      ]
    },
    {
      "cell_type": "code",
      "metadata": {
        "id": "BO8wEk91Mx3K"
      },
      "source": [
        "def solution(n):\n",
        "    answer = 0\n",
        "    for i in range(1,n+1):\n",
        "      if n%i==0:\n",
        "          answer+=i\n",
        "    return answer"
      ],
      "execution_count": 8,
      "outputs": []
    }
  ]
}