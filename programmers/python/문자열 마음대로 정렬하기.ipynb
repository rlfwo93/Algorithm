{
  "nbformat": 4,
  "nbformat_minor": 0,
  "metadata": {
    "colab": {
      "name": "Untitled73.ipynb",
      "provenance": [],
      "authorship_tag": "ABX9TyOXJNS+m2dmhMg5rqrNOe3e",
      "include_colab_link": true
    },
    "kernelspec": {
      "name": "python3",
      "display_name": "Python 3"
    },
    "language_info": {
      "name": "python"
    }
  },
  "cells": [
    {
      "cell_type": "markdown",
      "metadata": {
        "id": "view-in-github",
        "colab_type": "text"
      },
      "source": [
        "<a href=\"https://colab.research.google.com/github/rlfwo93/algorism/blob/main/programmers/python/%EB%AC%B8%EC%9E%90%EC%97%B4%20%EB%A7%88%EC%9D%8C%EB%8C%80%EB%A1%9C%20%EC%A0%95%EB%A0%AC%ED%95%98%EA%B8%B0.ipynb\" target=\"_parent\"><img src=\"https://colab.research.google.com/assets/colab-badge.svg\" alt=\"Open In Colab\"/></a>"
      ]
    },
    {
      "cell_type": "markdown",
      "metadata": {
        "id": "buwWIC-DMmi1"
      },
      "source": [
        "문제 설명\n",
        "\n",
        "문자열로 구성된 리스트 strings와, 정수 n이 주어졌을 때, 각 문자열의 인덱스 n번째 글자를 기준으로 오름차순 정렬하려 합니다. 예를 들어 strings가 [\"sun\", \"bed\", \"car\"]이고 n이 1이면 각 단어의 인덱스 1의 문자 \"u\", \"e\", \"a\"로 strings를 정렬합니다.\n",
        "\n",
        "제한 조건\n",
        "\n",
        "strings는 길이 1 이상, 50이하인 배열입니다.\n",
        "strings의 원소는 소문자 알파벳으로 이루어져 있습니다.\n",
        "strings의 원소는 길이 1 이상, 100이하인 문자열입니다.\n",
        "모든 strings의 원소의 길이는 n보다 큽니다.\n",
        "인덱스 1의 문자가 같은 문자열이 여럿 일 경우, 사전순으로 앞선 문자열이 앞쪽에 위치합니다.\n",
        "\n",
        "입출력 예\n",
        "\n",
        "strings\tn\treturn\n",
        "[\"sun\", \"bed\", \"car\"]\t1\t[\"car\", \"bed\", \"sun\"]\n",
        "[\"abce\", \"abcd\", \"cdx\"]\t2\t[\"abcd\", \"abce\", \"cdx\"]\n",
        "\n",
        "입출력 예 설명\n",
        "\n",
        "입출력 예 1\n",
        "\n",
        "\"sun\", \"bed\", \"car\"의 1번째 인덱스 값은 각각 \"u\", \"e\", \"a\" 입니다. 이를 기준으로 strings를 정렬하면 [\"car\", \"bed\", \"sun\"] 입니다.\n",
        "\n",
        "입출력 예 2\n",
        "\n",
        "\"abce\"와 \"abcd\", \"cdx\"의 2번째 인덱스 값은 \"c\", \"c\", \"x\"입니다. 따라서 정렬 후에는 \"cdx\"가 가장 뒤에 위치합니다. \"abce\"와 \"abcd\"는 사전순으로 정렬하면 \"abcd\"가 우선하므로, 답은 [\"abcd\", \"abce\", \"cdx\"] 입니다.\n",
        "\n",
        "https://programmers.co.kr/learn/courses/30/lessons/12915"
      ]
    },
    {
      "cell_type": "code",
      "metadata": {
        "id": "BO8wEk91Mx3K"
      },
      "source": [
        "def solution(strings, n):\n",
        "    answer = []\n",
        "    split=[]\n",
        "\n",
        "    for i in range(0,len(strings)):\n",
        "        split.append(strings[i][n:n+1]+strings[i])\n",
        "\n",
        "    split.sort()\n",
        "    for i in range(0,len(strings)):\n",
        "        answer.append(split[i][1:])\n",
        "\n",
        "\n",
        "    return answer"
      ],
      "execution_count": 5,
      "outputs": []
    }
  ]
}