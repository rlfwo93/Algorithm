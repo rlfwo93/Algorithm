{
  "nbformat": 4,
  "nbformat_minor": 0,
  "metadata": {
    "colab": {
      "name": "Untitled73.ipynb",
      "provenance": [],
      "authorship_tag": "ABX9TyMIOU6VEd2WdlHbBjMP6mOY",
      "include_colab_link": true
    },
    "kernelspec": {
      "name": "python3",
      "display_name": "Python 3"
    },
    "language_info": {
      "name": "python"
    }
  },
  "cells": [
    {
      "cell_type": "markdown",
      "metadata": {
        "id": "view-in-github",
        "colab_type": "text"
      },
      "source": [
        "<a href=\"https://colab.research.google.com/github/rlfwo93/algorism/blob/main/programmers/python/%EB%AC%B8%EC%9E%90%EC%97%B4%20%EB%8B%A4%EB%A3%A8%EA%B8%B0%20%EA%B8%B0%EB%B3%B8.ipynb\" target=\"_parent\"><img src=\"https://colab.research.google.com/assets/colab-badge.svg\" alt=\"Open In Colab\"/></a>"
      ]
    },
    {
      "cell_type": "markdown",
      "metadata": {
        "id": "buwWIC-DMmi1"
      },
      "source": [
        "문제 설명\n",
        "\n",
        "문자열 s의 길이가 4 혹은 6이고, 숫자로만 구성돼있는지 확인해주는 함수, solution을 완성하세요. 예를 들어 s가 \"a234\"이면 False를 리턴하고 \"1234\"라면 True를 리턴하면 됩니다.\n",
        "\n",
        "제한 사항\n",
        "\n",
        "s는 길이 1 이상, 길이 8 이하인 문자열입니다.\n",
        "\n",
        "입출력 예\n",
        "\n",
        "s\treturn\n",
        "\"a234\"\tfalse\n",
        "\"1234\"\n",
        "\n",
        "https://programmers.co.kr/learn/courses/30/lessons/12918"
      ]
    },
    {
      "cell_type": "code",
      "metadata": {
        "id": "BO8wEk91Mx3K"
      },
      "source": [
        "def solution(s):\n",
        "    arr=[]\n",
        "    answer=\"\"\n",
        "    for i in range(0,len(s)):\n",
        "        arr.append(s[i:i+1])\n",
        "\n",
        "    arr.sort()\n",
        "    arr.reverse()\n",
        "    answer=\"\".join(arr) #리스트의 각 단어들을 한 문장으로 조립할때는 단어들 사이마다 공백을 넣어줘야 한다.\n",
        "    return answer"
      ],
      "execution_count": 6,
      "outputs": []
    }
  ]
}