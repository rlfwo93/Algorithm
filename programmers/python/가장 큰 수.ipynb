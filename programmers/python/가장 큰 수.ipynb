{
  "nbformat": 4,
  "nbformat_minor": 0,
  "metadata": {
    "colab": {
      "name": "Untitled73.ipynb",
      "provenance": [],
      "authorship_tag": "ABX9TyMmeku7QVMa+kJNzeiJRZNI",
      "include_colab_link": true
    },
    "kernelspec": {
      "name": "python3",
      "display_name": "Python 3"
    },
    "language_info": {
      "name": "python"
    }
  },
  "cells": [
    {
      "cell_type": "markdown",
      "metadata": {
        "id": "view-in-github",
        "colab_type": "text"
      },
      "source": [
        "<a href=\"https://colab.research.google.com/github/rlfwo93/algorism/blob/main/programmers/python/%EA%B0%80%EC%9E%A5%20%ED%81%B0%20%EC%88%98.ipynb\" target=\"_parent\"><img src=\"https://colab.research.google.com/assets/colab-badge.svg\" alt=\"Open In Colab\"/></a>"
      ]
    },
    {
      "cell_type": "markdown",
      "metadata": {
        "id": "buwWIC-DMmi1"
      },
      "source": [
        "문제 설명\n",
        "\n",
        "0 또는 양의 정수가 주어졌을 때, 정수를 이어 붙여 만들 수 있는 가장 큰 수를 알아내 주세요.\n",
        "\n",
        "예를 들어, 주어진 정수가 [6, 10, 2]라면 [6102, 6210, 1062, 1026, 2610, 2106]를 만들 수 있고, 이중 가장 큰 수는 6210입니다.\n",
        "\n",
        "0 또는 양의 정수가 담긴 배열 numbers가 매개변수로 주어질 때, 순서를 재배치하여 만들 수 있는 가장 큰 수를 문자열로 바꾸어 return 하도록 solution 함수를 작성해주세요.\n",
        "\n",
        "제한 사항\n",
        "\n",
        "numbers의 길이는 1 이상 100,000 이하입니다.\n",
        "\n",
        "numbers의 원소는 0 이상 1,000 이하입니다.\n",
        "\n",
        "정답이 너무 클 수 있으니 문자열로 바꾸어 return 합니다.\n",
        "\n",
        "입출력 예\n",
        "\n",
        "numbers\treturn\n",
        "\n",
        "[6, 10, 2]\t\"6210\"\n",
        "\n",
        "[3, 30, 34, 5, 9]\t\"9534330\"\n",
        "\n",
        "\n",
        "https://programmers.co.kr/learn/courses/30/lessons/42746"
      ]
    },
    {
      "cell_type": "code",
      "metadata": {
        "id": "BO8wEk91Mx3K"
      },
      "source": [
        "def quick_sort(arr):\n",
        "    if len(arr) <=1:\n",
        "        return arr\n",
        "    pivot = arr[0]\n",
        "    small, equal, big = [], [], []\n",
        "    for num in arr:\n",
        "      if len(str(num)) == len(str(pivot)): #길이가 같을때\n",
        "        if num < pivot:\n",
        "            small.append(num)\n",
        "        elif num > pivot:\n",
        "            big.append(num)\n",
        "        else:\n",
        "            equal.append(num)\n",
        " \n",
        "      else:\n",
        "        if str(pivot)+str(num) < str(num) + str(pivot) :\n",
        "            big.append(num)\n",
        "        elif str(pivot)+str(num) > str(num) + str(pivot):\n",
        "            small.append(num)\n",
        "        else:\n",
        "            equal.append(num)\n",
        "\n",
        "    return quick_sort(big) + equal + quick_sort(small)\n",
        "\n",
        "def solution(arr):\n",
        "  st = \"\"\n",
        "  sum  = 0\n",
        "  num1 = quick_sort(arr)\n",
        "  for i in num1:\n",
        "    st+=str(i)\n",
        "  for i in num1:\n",
        "    sum+=i  \n",
        "  if sum == 0:\n",
        "    return \"0\"\n",
        "  return st"
      ],
      "execution_count": 10,
      "outputs": []
    }
  ]
}