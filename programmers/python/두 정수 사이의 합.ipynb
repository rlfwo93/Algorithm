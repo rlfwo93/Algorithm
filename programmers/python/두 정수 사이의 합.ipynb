{
  "nbformat": 4,
  "nbformat_minor": 0,
  "metadata": {
    "colab": {
      "name": "Untitled73.ipynb",
      "provenance": [],
      "authorship_tag": "ABX9TyPuzl+T4YRwcZXt+I7qSn8m",
      "include_colab_link": true
    },
    "kernelspec": {
      "name": "python3",
      "display_name": "Python 3"
    },
    "language_info": {
      "name": "python"
    }
  },
  "cells": [
    {
      "cell_type": "markdown",
      "metadata": {
        "id": "view-in-github",
        "colab_type": "text"
      },
      "source": [
        "<a href=\"https://colab.research.google.com/github/rlfwo93/algorism/blob/main/programmers/python/%EB%91%90%20%EC%A0%95%EC%88%98%20%EC%82%AC%EC%9D%B4%EC%9D%98%20%ED%95%A9.ipynb\" target=\"_parent\"><img src=\"https://colab.research.google.com/assets/colab-badge.svg\" alt=\"Open In Colab\"/></a>"
      ]
    },
    {
      "cell_type": "markdown",
      "metadata": {
        "id": "buwWIC-DMmi1"
      },
      "source": [
        "문제 설명\n",
        "\n",
        "두 정수 a, b가 주어졌을 때 a와 b 사이에 속한 모든 정수의 합을 리턴하는 함수, solution을 완성하세요.\n",
        "예를 들어 \n",
        "\n",
        "a = 3, b = 5인 경우, 3 + 4 + 5 = 12이므로 12를 리턴합니다.\n",
        "\n",
        "제한 조건\n",
        "\n",
        "a와 b가 같은 경우는 둘 중 아무 수나 리턴하세요.\n",
        "a와 b는 -10,000,000 이상 10,000,000 이하인 정수입니다.\n",
        "a와 b의 대소관계는 정해져있지 않습니다\n",
        "\n",
        "https://programmers.co.kr/learn/courses/30/lessons/12912"
      ]
    },
    {
      "cell_type": "code",
      "metadata": {
        "id": "BO8wEk91Mx3K"
      },
      "source": [
        "def solution(a, b):\n",
        "    answer = 0\n",
        "    if a<b:\n",
        "        for i in range(a,b+1):\n",
        "            answer+=i\n",
        "    else:\n",
        "        for i in range(b,a+1):\n",
        "            answer+=i\n",
        "\n",
        "    return answer"
      ],
      "execution_count": 5,
      "outputs": []
    }
  ]
}