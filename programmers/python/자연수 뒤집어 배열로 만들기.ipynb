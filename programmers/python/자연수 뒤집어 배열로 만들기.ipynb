{
  "nbformat": 4,
  "nbformat_minor": 0,
  "metadata": {
    "colab": {
      "name": "Untitled73.ipynb",
      "provenance": [],
      "authorship_tag": "ABX9TyPTmajlNZcP3rUfvTAxmLQ+",
      "include_colab_link": true
    },
    "kernelspec": {
      "name": "python3",
      "display_name": "Python 3"
    },
    "language_info": {
      "name": "python"
    }
  },
  "cells": [
    {
      "cell_type": "markdown",
      "metadata": {
        "id": "view-in-github",
        "colab_type": "text"
      },
      "source": [
        "<a href=\"https://colab.research.google.com/github/rlfwo93/algorism/blob/main/programmers/python/%EC%9E%90%EC%97%B0%EC%88%98%20%EB%92%A4%EC%A7%91%EC%96%B4%20%EB%B0%B0%EC%97%B4%EB%A1%9C%20%EB%A7%8C%EB%93%A4%EA%B8%B0.ipynb\" target=\"_parent\"><img src=\"https://colab.research.google.com/assets/colab-badge.svg\" alt=\"Open In Colab\"/></a>"
      ]
    },
    {
      "cell_type": "markdown",
      "metadata": {
        "id": "buwWIC-DMmi1"
      },
      "source": [
        "문제 설명\n",
        "\n",
        "자연수 n을 뒤집어 각 자리 숫자를 원소로 가지는 배열 형태로 리턴해주세요. 예를들어 n이 12345이면 [5,4,3,2,1]을 리턴합니다.\n",
        "\n",
        "제한 조건\n",
        "\n",
        "n은 10,000,000,000이하인 자연수입니다.\n",
        "\n",
        "입출력 예\n",
        "\n",
        "n\treturn\n",
        "\n",
        "12345\t[5,4,3,2,1]\n",
        "\n",
        "\n",
        "https://programmers.co.kr/learn/courses/30/lessons/12932"
      ]
    },
    {
      "cell_type": "code",
      "metadata": {
        "id": "BO8wEk91Mx3K"
      },
      "source": [
        "def solution(n):\n",
        "    answer = []\n",
        "\n",
        "    while True:\n",
        "       if n==0:\n",
        "           break\n",
        "       answer.append(n%10)\n",
        "       n=n//10\n",
        "\n",
        "\n",
        "    return answer"
      ],
      "execution_count": 9,
      "outputs": []
    }
  ]
}