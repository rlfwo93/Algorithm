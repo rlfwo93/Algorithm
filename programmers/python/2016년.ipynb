{
  "nbformat": 4,
  "nbformat_minor": 0,
  "metadata": {
    "colab": {
      "name": "Untitled73.ipynb",
      "provenance": [],
      "authorship_tag": "ABX9TyMB50jNKTKcj+705rhiS2tE",
      "include_colab_link": true
    },
    "kernelspec": {
      "name": "python3",
      "display_name": "Python 3"
    },
    "language_info": {
      "name": "python"
    }
  },
  "cells": [
    {
      "cell_type": "markdown",
      "metadata": {
        "id": "view-in-github",
        "colab_type": "text"
      },
      "source": [
        "<a href=\"https://colab.research.google.com/github/rlfwo93/algorism/blob/main/programmers/python/2016%EB%85%84.ipynb\" target=\"_parent\"><img src=\"https://colab.research.google.com/assets/colab-badge.svg\" alt=\"Open In Colab\"/></a>"
      ]
    },
    {
      "cell_type": "markdown",
      "metadata": {
        "id": "buwWIC-DMmi1"
      },
      "source": [
        "문제 설명\n",
        "\n",
        "\n",
        "문제 설명\n",
        "2016년 1월 1일은 금요일입니다. 2016년 a월 b일은 무슨 요일일까요? 두 수 a ,b를 입력받아 2016년 a월 b일이 무슨 요일인지 리턴하는 함수, solution을 완성하세요. 요일의 이름은 일요일부터 토요일까지 각각 SUN,MON,TUE,WED,THU,FRI,SAT\n",
        "\n",
        "\n",
        "입니다. 예를 들어 a=5, b=24라면 5월 24일은 화요일이므로 문자열 \"TUE\"를 반환하세요.\n",
        "\n",
        "\n",
        "제한 조건\n",
        "2016년은 윤년입니다.\n",
        "2016년 a월 b일은 실제로 있는 날입니다. (13월 26일이나 2월 45일같은 날짜는 주어지지 않습니다)\n",
        "입출력 예\n",
        "a\tb\tresult\n",
        "5\t24\t\"TUE\"\n",
        "\n",
        "\n",
        "https://programmers.co.kr/learn/courses/30/lessons/12901"
      ]
    },
    {
      "cell_type": "code",
      "metadata": {
        "id": "BO8wEk91Mx3K"
      },
      "source": [
        "def solution(a, b):\n",
        "\n",
        "\n",
        "\n",
        "    months = ['FRI', 'SAT', 'SUN', 'MON','TUE','WED','THU'] \n",
        "    months_num = [31,29,31,30,31,30,31,31,30,31,30] \n",
        "\n",
        "    totalDays = 0 \n",
        "\n",
        "    for i in range(a-1):\n",
        "        totalDays += months_num[i]\n",
        "    totalDays += b\n",
        "\n",
        "    answer = totalDays % 7 -1\n",
        "\n",
        "    return months[answer]\n",
        "\n",
        "\n",
        "print(solution(1,1))"
      ],
      "execution_count": 3,
      "outputs": []
    }
  ]
}