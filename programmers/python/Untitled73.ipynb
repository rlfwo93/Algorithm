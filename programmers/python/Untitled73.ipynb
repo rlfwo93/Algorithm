{
  "nbformat": 4,
  "nbformat_minor": 0,
  "metadata": {
    "colab": {
      "name": "Untitled73.ipynb",
      "provenance": [],
      "authorship_tag": "ABX9TyO/4b43r0caw2LVGVutfRJx",
      "include_colab_link": true
    },
    "kernelspec": {
      "name": "python3",
      "display_name": "Python 3"
    },
    "language_info": {
      "name": "python"
    }
  },
  "cells": [
    {
      "cell_type": "markdown",
      "metadata": {
        "id": "view-in-github",
        "colab_type": "text"
      },
      "source": [
        "<a href=\"https://colab.research.google.com/github/rlfwo93/algorism/blob/main/programmers/python/Untitled73.ipynb\" target=\"_parent\"><img src=\"https://colab.research.google.com/assets/colab-badge.svg\" alt=\"Open In Colab\"/></a>"
      ]
    },
    {
      "cell_type": "markdown",
      "metadata": {
        "id": "buwWIC-DMmi1"
      },
      "source": [
        "문제 설명\n",
        "\n",
        "정수를 담고 있는 배열 arr의 평균값을 return하는 함수, solution을 완성해보세요.\n",
        "\n",
        "제한사항\n",
        "\n",
        "arr은 길이 1 이상, 100 이하인 배열입니다.\n",
        "\n",
        "arr의 원소는 -10,000 이상 10,000 이하인 정수입니다.\n",
        "\n",
        "입출력 예\n",
        "\n",
        "arr\treturn\n",
        "\n",
        "[1,2,3,4]\t2.5\n",
        "\n",
        "[5,5]\t5\n",
        "\n",
        "\n",
        "https://programmers.co.kr/learn/courses/30/lessons/12944"
      ]
    },
    {
      "cell_type": "code",
      "metadata": {
        "id": "BO8wEk91Mx3K"
      },
      "source": [
        "def solution(arr):\n",
        "    \n",
        "    return sum(arr)/len(arr)"
      ],
      "execution_count": 10,
      "outputs": []
    }
  ]
}