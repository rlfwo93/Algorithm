{
  "nbformat": 4,
  "nbformat_minor": 0,
  "metadata": {
    "colab": {
      "name": "Untitled73.ipynb",
      "provenance": [],
      "authorship_tag": "ABX9TyNpo795g67urPNGa4n+knGR",
      "include_colab_link": true
    },
    "kernelspec": {
      "name": "python3",
      "display_name": "Python 3"
    },
    "language_info": {
      "name": "python"
    }
  },
  "cells": [
    {
      "cell_type": "markdown",
      "metadata": {
        "id": "view-in-github",
        "colab_type": "text"
      },
      "source": [
        "<a href=\"https://colab.research.google.com/github/rlfwo93/algorism/blob/main/programmers/python/%ED%95%B8%EB%93%9C%ED%8F%B0%20%EB%B2%88%ED%98%B8%20%EA%B0%80%EB%A6%AC%EA%B8%B0.ipynb\" target=\"_parent\"><img src=\"https://colab.research.google.com/assets/colab-badge.svg\" alt=\"Open In Colab\"/></a>"
      ]
    },
    {
      "cell_type": "markdown",
      "metadata": {
        "id": "buwWIC-DMmi1"
      },
      "source": [
        "문제 설명\n",
        "\n",
        "프로그래머스 모바일은 개인정보 보호를 위해 고지서를 보낼 때 고객들의 전화번호의 일부를 가립니다.\n",
        "\n",
        "전화번호가 문자열 phone_number로 주어졌을 때, 전화번호의 뒷 4자리를 제외한 나머지 숫자를 전부 *으로 가린 문자열을 리턴하는 함수, solution을 완성해주세요.\n",
        "\n",
        "\n",
        "제한 조건\n",
        "\n",
        "s는 길이 4 이상, 20이하인 문자열입니다.\n",
        "\n",
        "입출력 예\n",
        "\n",
        "phone_number\treturn\n",
        "\n",
        "\"01033334444\"\t\"*******4444\"\n",
        "\n",
        "\"027778888\"\t\"*****8888\"\n",
        "\n",
        "\n",
        "https://programmers.co.kr/learn/courses/30/lessons/12947"
      ]
    },
    {
      "cell_type": "code",
      "metadata": {
        "id": "BO8wEk91Mx3K"
      },
      "source": [
        "def solution(phone_number):\n",
        "    answer=\"\"\n",
        "    for i in range(0,len(phone_number[0:-4])):\n",
        "        answer+=\"*\"\n",
        "\n",
        "\n",
        "    return answer+phone_number[-4:].lstrip()"
      ],
      "execution_count": 10,
      "outputs": []
    }
  ]
}