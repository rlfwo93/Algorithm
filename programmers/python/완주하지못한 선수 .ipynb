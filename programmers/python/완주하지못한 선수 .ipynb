{
  "nbformat": 4,
  "nbformat_minor": 0,
  "metadata": {
    "colab": {
      "name": "Untitled73.ipynb",
      "provenance": [],
      "authorship_tag": "ABX9TyNWbSezfVNaulqfXCvlkgz5",
      "include_colab_link": true
    },
    "kernelspec": {
      "name": "python3",
      "display_name": "Python 3"
    },
    "language_info": {
      "name": "python"
    }
  },
  "cells": [
    {
      "cell_type": "markdown",
      "metadata": {
        "id": "view-in-github",
        "colab_type": "text"
      },
      "source": [
        "<a href=\"https://colab.research.google.com/github/rlfwo93/algorism/blob/main/programmers/python/%EC%99%84%EC%A3%BC%ED%95%98%EC%A7%80%EB%AA%BB%ED%95%9C%20%EC%84%A0%EC%88%98%20.ipynb\" target=\"_parent\"><img src=\"https://colab.research.google.com/assets/colab-badge.svg\" alt=\"Open In Colab\"/></a>"
      ]
    },
    {
      "cell_type": "markdown",
      "metadata": {
        "id": "buwWIC-DMmi1"
      },
      "source": [
        "문제 설명\n",
        "\n",
        "수많은 마라톤 선수들이 마라톤에 참여하였습니다. 단 한 명의 선수를 제외하고는 모든 선수가 마라톤을 완주하였습니다.\n",
        "\n",
        "\n",
        "마라톤에 참여한 선수들의 이름이 담긴 배열 participant와 완주한 선수들의 이름이 담긴 배열 completion이 주어질 때, 완주하지 못한 선수의 이름을 return 하도록 solution 함수를 작성해주세요.\n",
        "\n",
        "\n",
        "제한사항\n",
        "\n",
        "\n",
        "마라톤 경기에 참여한 선수의 수는 1명 이상 100,000명 이하입니다.\n",
        "completion의 길이는 participant의 길이보다 1 작습니다.\n",
        "참가자의 이름은 1개 이상 20개 이하의 알파벳 소문자로 이루어져 있습니다.\n",
        "참가자 중에는 동명이인이 있을 수 있습니다.\n",
        "\n",
        "\n",
        "입출력 예\n",
        "\n",
        "\n",
        "participant\tcompletion\treturn\n",
        "[\"leo\", \"kiki\", \"eden\"]\t[\"eden\", \"kiki\"]\t\"leo\"\n",
        "[\"marina\", \"josipa\", \"nikola\", \"vinko\", \"filipa\"]\t[\"josipa\", \"filipa\", \"marina\", \"nikola\"]\t\"vinko\"\n",
        "[\"mislav\", \"stanko\", \"mislav\", \"ana\"]\t[\"stanko\", \"ana\", \"mislav\"]\t\"mislav\"\n",
        "입출력 예 설명\n",
        "예제 #1\n",
        "\"leo\"는 참여자 명단에는 있지만, 완주자 명단에는 없기 때문에 완주하지 못했습니다.\n",
        "\n",
        "\n",
        "예제 #2\n",
        "\"vinko\"는 참여자 명단에는 있지만, 완주자 명단에는 없기 때문에 완주하지 못했습니다.\n",
        "\n",
        "\n",
        "예제 #3\n",
        "\"mislav\"는 참여자 명단에는 두 명이 있지만, 완주자 명단에는 한 명밖에 없기 때문에 한명은 완주하지 못했습니다.\n",
        "\n",
        "https://programmers.co.kr/learn/courses/30/lessons/42576"
      ]
    },
    {
      "cell_type": "code",
      "metadata": {
        "id": "BO8wEk91Mx3K"
      },
      "source": [
        "def solution(participant, completion):\n",
        "    answer =\"\"\n",
        "    completion+=[\"zzzzzzzzzzzzzzzzzzzz\"]\n",
        "    participant.sort()\n",
        "    completion.sort()\n",
        "\n",
        "\n",
        "    for i in range(len(participant)):\n",
        "        if participant[i]!=completion[i]:\n",
        "            answer=participant[i]\n",
        "            return answer"
      ],
      "execution_count": 3,
      "outputs": []
    }
  ]
}