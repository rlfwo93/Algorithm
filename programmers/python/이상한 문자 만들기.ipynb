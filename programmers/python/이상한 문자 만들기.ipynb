{
  "nbformat": 4,
  "nbformat_minor": 0,
  "metadata": {
    "colab": {
      "name": "Untitled73.ipynb",
      "provenance": [],
      "authorship_tag": "ABX9TyPzzdCLeY5oKRqmRQgn8x8m",
      "include_colab_link": true
    },
    "kernelspec": {
      "name": "python3",
      "display_name": "Python 3"
    },
    "language_info": {
      "name": "python"
    }
  },
  "cells": [
    {
      "cell_type": "markdown",
      "metadata": {
        "id": "view-in-github",
        "colab_type": "text"
      },
      "source": [
        "<a href=\"https://colab.research.google.com/github/rlfwo93/algorism/blob/main/programmers/python/%EC%9D%B4%EC%83%81%ED%95%9C%20%EB%AC%B8%EC%9E%90%20%EB%A7%8C%EB%93%A4%EA%B8%B0.ipynb\" target=\"_parent\"><img src=\"https://colab.research.google.com/assets/colab-badge.svg\" alt=\"Open In Colab\"/></a>"
      ]
    },
    {
      "cell_type": "markdown",
      "metadata": {
        "id": "buwWIC-DMmi1"
      },
      "source": [
        "문제 설명\n",
        "\n",
        "문자열 s는 한 개 이상의 단어로 구성되어 있습니다. \n",
        "\n",
        "각 단어는 하나 이상의 공백문자로 구분되어 있습니다. \n",
        "\n",
        "각 단어의 짝수번째 알파벳은 대문자로, 홀수번째 알파벳은 소문자로 바꾼 문자열을 리턴하는 함수, solution을 완성하세요.\n",
        "\n",
        "제한 사항\n",
        "\n",
        "문자열 전체의 짝/홀수 인덱스가 아니라, 단어(공백을 기준)별로 짝/홀수 인덱스를 판단해야합니다.\n",
        "\n",
        "첫 번째 글자는 0번째 인덱스로 보아 짝수번째 알파벳으로 처리해야 합니다.\n",
        "\n",
        "입출력 예\n",
        "\n",
        "s\treturn\n",
        "\n",
        "\"try hello world\"\t\"TrY HeLlO WoRlD\"\n",
        "\n",
        "입출력 예 설명\n",
        "\n",
        "\"try hello world\"는 세 단어 \"try\", \"hello\", \"world\"로 구성되어 있습니다. \n",
        "\n",
        "각 단어의 짝수번째 문자를 대문자로, 홀수번째 문자를 소문자로 바꾸면 \"TrY\", \"HeLlO\", \"WoRlD\"입니다. \n",
        "\n",
        "따라서 \"TrY HeLlO WoRlD\" 를 리턴합니다.\n",
        "\n",
        "https://programmers.co.kr/learn/courses/30/lessons/12930"
      ]
    },
    {
      "cell_type": "code",
      "metadata": {
        "id": "BO8wEk91Mx3K"
      },
      "source": [
        "def solution(s):\n",
        "    arr=s.split(\" \")\n",
        "    answer =\"\"\n",
        "    for i in range(len(arr)):\n",
        "        for j in range(len(arr[i])):\n",
        "            if j%2==0:\n",
        "                answer+=(arr[i][j].upper())\n",
        "            else:\n",
        "                answer+=(arr[i][j].lower())\n",
        "        answer += \" \"\n",
        "        \n",
        "    return answer[0:-1]"
      ],
      "execution_count": 9,
      "outputs": []
    }
  ]
}