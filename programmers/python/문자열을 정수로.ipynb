{
  "nbformat": 4,
  "nbformat_minor": 0,
  "metadata": {
    "colab": {
      "name": "Untitled73.ipynb",
      "provenance": [],
      "authorship_tag": "ABX9TyMFPbTEilxur33EgYOKbrag",
      "include_colab_link": true
    },
    "kernelspec": {
      "name": "python3",
      "display_name": "Python 3"
    },
    "language_info": {
      "name": "python"
    }
  },
  "cells": [
    {
      "cell_type": "markdown",
      "metadata": {
        "id": "view-in-github",
        "colab_type": "text"
      },
      "source": [
        "<a href=\"https://colab.research.google.com/github/rlfwo93/algorism/blob/main/programmers/python/%EB%AC%B8%EC%9E%90%EC%97%B4%EC%9D%84%20%EC%A0%95%EC%88%98%EB%A1%9C.ipynb\" target=\"_parent\"><img src=\"https://colab.research.google.com/assets/colab-badge.svg\" alt=\"Open In Colab\"/></a>"
      ]
    },
    {
      "cell_type": "markdown",
      "metadata": {
        "id": "buwWIC-DMmi1"
      },
      "source": [
        "문제 설명\n",
        "\n",
        "문자열 s를 숫자로 변환한 결과를 반환하는 함수, solution을 완성하세요.\n",
        "\n",
        "제한 조건\n",
        "\n",
        "s의 길이는 1 이상 5이하입니다.\n",
        "\n",
        "s의 맨앞에는 부호(+, -)가 올 수 있습니다.\n",
        "\n",
        "s는 부호와 숫자로만 이루어져있습니다.\n",
        "\n",
        "s는 \"0\"으로 시작하지 않습니다.\n",
        "\n",
        "입출력 예\n",
        "\n",
        "예를들어 str이 \"1234\"이면 1234를 반환하고, \"-1234\"이면 -1234를 반환하면 됩니다.\n",
        "str은 부호(+,-)와 숫자로만 구성되어 있고, 잘못된 값이 입력되는 경우는 없습니다.\n",
        "\n",
        "https://programmers.co.kr/learn/courses/30/lessons/12925"
      ]
    },
    {
      "cell_type": "code",
      "metadata": {
        "id": "BO8wEk91Mx3K"
      },
      "source": [
        "def solution(s):\n",
        "    answer = 0\n",
        "    answer=int(s)\n",
        "    return answer"
      ],
      "execution_count": 6,
      "outputs": []
    }
  ]
}