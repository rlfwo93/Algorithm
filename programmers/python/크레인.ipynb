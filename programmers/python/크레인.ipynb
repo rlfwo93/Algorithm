{
  "nbformat": 4,
  "nbformat_minor": 0,
  "metadata": {
    "colab": {
      "name": "Untitled73.ipynb",
      "provenance": [],
      "authorship_tag": "ABX9TyMEo1S/hMlpm5OE1tO5L0Js",
      "include_colab_link": true
    },
    "kernelspec": {
      "name": "python3",
      "display_name": "Python 3"
    },
    "language_info": {
      "name": "python"
    }
  },
  "cells": [
    {
      "cell_type": "markdown",
      "metadata": {
        "id": "view-in-github",
        "colab_type": "text"
      },
      "source": [
        "<a href=\"https://colab.research.google.com/github/rlfwo93/algorism/blob/main/programmers/python/%ED%81%AC%EB%A0%88%EC%9D%B8.ipynb\" target=\"_parent\"><img src=\"https://colab.research.google.com/assets/colab-badge.svg\" alt=\"Open In Colab\"/></a>"
      ]
    },
    {
      "cell_type": "markdown",
      "metadata": {
        "id": "buwWIC-DMmi1"
      },
      "source": [
        "카카오 개발자 겨울 인턴 문제 : 크레인 인형뽑기 \n",
        "\n",
        "https://programmers.co.kr/learn/courses/30/lessons/64061"
      ]
    },
    {
      "cell_type": "code",
      "metadata": {
        "id": "BO8wEk91Mx3K",
        "colab": {
          "base_uri": "https://localhost:8080/"
        },
        "outputId": "9284ff85-2f3f-4fe9-dbd7-a88031fb8053"
      },
      "source": [
        "def solution(answers):\n",
        "    answer = [0,0,0] #수포자들이 맞춘 답을 카운팅 함\n",
        "\n",
        "    result=[] # 제일 많이 맞춘 수포자를 담음.\n",
        "\n",
        "    #수포자들이 찍을 답을 담고, 문제의 수만큼 배열을 추가시켜줌.\n",
        "    a = [1, 2, 3, 4, 5] * ((len(answers) // 5) + 1)\n",
        "    b = [2, 1, 2, 3, 2, 4, 2, 5] * ((len(answers) // 8) + 1)\n",
        "    c = [3, 3, 1, 1, 2, 2, 4, 4, 5, 5] * ((len(answers) // 10) + 1)\n",
        "\n",
        "\n",
        "\n",
        "    for i in range(len(answers)):  # 각각의 수포자들이 문제를 맞추면 1씩증가함\n",
        "        if a[i] == answers[i]:\n",
        "            answer[0] += 1\n",
        "        if b[i] == answers[i]:\n",
        "            answer[1] += 1\n",
        "        if c[i] == answers[i]:\n",
        "            answer[2] += 1\n",
        "\n",
        "\n",
        "    for i in range(len(answer)): # 수포자들이 맞춘 갯수를 탐색하여 제일 많이 맞춘 수포자 찾아냄.\n",
        "        if max(answer) == answer[i]:\n",
        "            result.append(i+1) #인덱스는 0부터 시작하기떄문에 +1을 해줌.\n",
        "\n",
        "    return result\n",
        "\n",
        "\n",
        "print(solution([1, 2, 3, 4, 5, 6, 7, 8, 9]))\n",
        "\n"
      ],
      "execution_count": 2,
      "outputs": [
        {
          "output_type": "stream",
          "text": [
            "[1]\n"
          ],
          "name": "stdout"
        }
      ]
    }
  ]
}