{
  "nbformat": 4,
  "nbformat_minor": 0,
  "metadata": {
    "colab": {
      "name": "Untitled73.ipynb",
      "provenance": [],
      "authorship_tag": "ABX9TyPC1XSKmSd+mw1Id8uVAGF4",
      "include_colab_link": true
    },
    "kernelspec": {
      "name": "python3",
      "display_name": "Python 3"
    },
    "language_info": {
      "name": "python"
    }
  },
  "cells": [
    {
      "cell_type": "markdown",
      "metadata": {
        "id": "view-in-github",
        "colab_type": "text"
      },
      "source": [
        "<a href=\"https://colab.research.google.com/github/rlfwo93/algorism/blob/main/programmers/python/%EC%A0%84%ED%99%94%EB%B2%88%ED%98%B8%20%EB%AA%A9%EB%A1%9D.ipynb\" target=\"_parent\"><img src=\"https://colab.research.google.com/assets/colab-badge.svg\" alt=\"Open In Colab\"/></a>"
      ]
    },
    {
      "cell_type": "markdown",
      "metadata": {
        "id": "buwWIC-DMmi1"
      },
      "source": [
        "문제 설명\n",
        "\n",
        "전화번호부에 적힌 전화번호 중, 한 번호가 다른 번호의 접두어인 경우가 있는지 확인하려 합니다.\n",
        "\n",
        "전화번호가 다음과 같을 경우, 구조대 전화번호는 영석이의 전화번호의 접두사입니다.\n",
        "\n",
        "구조대 : 119\n",
        "\n",
        "박준영 : 97 674 223\n",
        "\n",
        "지영석 : 11 9552 4421\n",
        "\n",
        "전화번호부에 적힌 전화번호를 담은 배열 phone_book 이 solution 함수의 매개변수로 주어질 때, 어떤 번호가 다른 번호의 접두어인 경우가 있으면 false를 그렇지 않으면 true를 return 하도록 solution 함수를 작성해주세요.\n",
        "\n",
        "제한 사항\n",
        "\n",
        "phone_book의 길이는 1 이상 1,000,000 이하입니다.\n",
        "\n",
        "각 전화번호의 길이는 1 이상 20 이하입니다.\n",
        "\n",
        "같은 전화번호가 중복해서 들어있지 않습니다.\n",
        "\n",
        "입출력 예제\n",
        "\n",
        "phone_book\treturn\n",
        "\n",
        "[\"119\", \"97674223\", \"1195524421\"]\tfalse\n",
        "\n",
        "[\"123\",\"456\",\"789\"]\ttrue\n",
        "\n",
        "[\"12\",\"123\",\"1235\",\"567\",\"88\"]\tfalse\n",
        "\n",
        "입출력 예 설명\n",
        "\n",
        "입출력 예 #1\n",
        "\n",
        "앞에서 설명한 예와 같습니다.\n",
        "\n",
        "\n",
        "입출력 예 #2\n",
        "\n",
        "한 번호가 다른 번호의 접두사인 경우가 없으므로, 답은 true입니다.\n",
        "\n",
        "입출력 예 #3\n",
        "\n",
        "첫 번째 전화번호, “12”가 두 번째 전화번호 “123”의 접두사입니다. 따라서 답은 false입니다.\n",
        "\n",
        "\n",
        "https://programmers.co.kr/learn/courses/30/lessons/42577"
      ]
    },
    {
      "cell_type": "code",
      "metadata": {
        "id": "BO8wEk91Mx3K"
      },
      "source": [
        "def solution(phone_book):\n",
        "    answer = True\n",
        "    phone_book.sort()\n",
        "    for i in range(len(phone_book)):\n",
        "      if i+1 < len(phone_book):\n",
        "        if phone_book[i+1].find(phone_book[i]) != -1 and phone_book[i+1].find(phone_book[i]) ==0:\n",
        "          answer = False\n",
        "          break\n",
        "    \n",
        "    return answer"
      ],
      "execution_count": 10,
      "outputs": []
    }
  ]
}