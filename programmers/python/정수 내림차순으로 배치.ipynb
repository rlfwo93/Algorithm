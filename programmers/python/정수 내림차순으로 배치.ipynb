{
  "nbformat": 4,
  "nbformat_minor": 0,
  "metadata": {
    "colab": {
      "name": "Untitled73.ipynb",
      "provenance": [],
      "authorship_tag": "ABX9TyNa5RIPfjsagBH1VNFn/QbO",
      "include_colab_link": true
    },
    "kernelspec": {
      "name": "python3",
      "display_name": "Python 3"
    },
    "language_info": {
      "name": "python"
    }
  },
  "cells": [
    {
      "cell_type": "markdown",
      "metadata": {
        "id": "view-in-github",
        "colab_type": "text"
      },
      "source": [
        "<a href=\"https://colab.research.google.com/github/rlfwo93/algorism/blob/main/programmers/python/%EC%A0%95%EC%88%98%20%EB%82%B4%EB%A6%BC%EC%B0%A8%EC%88%9C%EC%9C%BC%EB%A1%9C%20%EB%B0%B0%EC%B9%98.ipynb\" target=\"_parent\"><img src=\"https://colab.research.google.com/assets/colab-badge.svg\" alt=\"Open In Colab\"/></a>"
      ]
    },
    {
      "cell_type": "markdown",
      "metadata": {
        "id": "buwWIC-DMmi1"
      },
      "source": [
        "문제 설명\n",
        "\n",
        "함수 solution은 정수 n을 매개변수로 입력받습니다. \n",
        "\n",
        "n의 각 자릿수를 큰것부터 작은 순으로 정렬한 새로운 정수를 리턴해주세요.\n",
        "\n",
        " 예를들어 n이 118372면 873211을 리턴하면 됩니다.\n",
        "\n",
        "제한 조건\n",
        "\n",
        "n은 1이상 8000000000 이하인 자연수입니다.\n",
        "\n",
        "입출력 예\n",
        "\n",
        "n\treturn\n",
        "\n",
        "118372\t873211\n",
        "\n",
        "\n",
        "\n",
        "https://programmers.co.kr/learn/courses/30/lessons/12933"
      ]
    },
    {
      "cell_type": "code",
      "metadata": {
        "id": "BO8wEk91Mx3K"
      },
      "source": [
        "def solution(n):\n",
        "    answer = 0\n",
        "    arr=[]\n",
        "    while True:\n",
        "        if n==0:\n",
        "            break\n",
        "        arr.append(str(n%10))\n",
        "        n=n//10\n",
        "    arr.sort(reverse=True)\n",
        "    arr=\"\".join(arr)\n",
        "    return int(arr)"
      ],
      "execution_count": 9,
      "outputs": []
    }
  ]
}