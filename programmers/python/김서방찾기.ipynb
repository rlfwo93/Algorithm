{
  "nbformat": 4,
  "nbformat_minor": 0,
  "metadata": {
    "colab": {
      "name": "Untitled73.ipynb",
      "provenance": [],
      "authorship_tag": "ABX9TyOnmyQLl3WH2P0OW8PNX4xI",
      "include_colab_link": true
    },
    "kernelspec": {
      "name": "python3",
      "display_name": "Python 3"
    },
    "language_info": {
      "name": "python"
    }
  },
  "cells": [
    {
      "cell_type": "markdown",
      "metadata": {
        "id": "view-in-github",
        "colab_type": "text"
      },
      "source": [
        "<a href=\"https://colab.research.google.com/github/rlfwo93/algorism/blob/main/programmers/python/%EA%B9%80%EC%84%9C%EB%B0%A9%EC%B0%BE%EA%B8%B0.ipynb\" target=\"_parent\"><img src=\"https://colab.research.google.com/assets/colab-badge.svg\" alt=\"Open In Colab\"/></a>"
      ]
    },
    {
      "cell_type": "markdown",
      "metadata": {
        "id": "buwWIC-DMmi1"
      },
      "source": [
        "문제 설명\n",
        "\n",
        "String형 배열 seoul의 element중 \"Kim\"의 위치 x를 찾아, \"김서방은 x에 있다\"는 String을 반환하는 함수, solution을 완성하세요. seoul에 \"Kim\"은 오직 한 번만 나타나며 잘못된 값이 입력되는 경우는 없습니다.\n",
        "\n",
        "제한 사항\n",
        "seoul은 길이 1 이상, 1000 이하인 배열입니다.\n",
        "seoul의 원소는 길이 1 이상, 20 이하인 문자열입니다.\n",
        "\"Kim\"은 반드시 seoul 안에 포함되어 있습니다.\n",
        "입출력 예\n",
        "seoul\treturn\n",
        "[\"Jane\", \"Kim\"]\t\"김서방은 1에 있다\"\n",
        "\n",
        "https://programmers.co.kr/learn/courses/30/lessons/12919"
      ]
    },
    {
      "cell_type": "code",
      "metadata": {
        "id": "BO8wEk91Mx3K"
      },
      "source": [
        "def solution(seoul):\n",
        "    answer = ''\n",
        "    return \"김서방은 {}에 있다\".format(seoul.index(\"Kim\"))\n",
        "\n",
        "\n",
        "print(solution([\"Jane\", \"Kim\"]))"
      ],
      "execution_count": 6,
      "outputs": []
    }
  ]
}