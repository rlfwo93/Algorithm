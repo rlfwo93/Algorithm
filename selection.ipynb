{
  "nbformat": 4,
  "nbformat_minor": 0,
  "metadata": {
    "colab": {
      "name": "Untitled56.ipynb",
      "provenance": [],
      "authorship_tag": "ABX9TyONW4MST9pP/l2UpeNHI3Hv",
      "include_colab_link": true
    },
    "kernelspec": {
      "name": "python3",
      "display_name": "Python 3"
    },
    "language_info": {
      "name": "python"
    }
  },
  "cells": [
    {
      "cell_type": "markdown",
      "metadata": {
        "id": "view-in-github",
        "colab_type": "text"
      },
      "source": [
        "<a href=\"https://colab.research.google.com/github/rlfwo93/algorism/blob/main/selection.ipynb\" target=\"_parent\"><img src=\"https://colab.research.google.com/assets/colab-badge.svg\" alt=\"Open In Colab\"/></a>"
      ]
    },
    {
      "cell_type": "code",
      "metadata": {
        "colab": {
          "base_uri": "https://localhost:8080/"
        },
        "id": "bexDD_oM-Nol",
        "outputId": "ed6a04df-c4d0-486b-b382-394efcf19fdd"
      },
      "source": [
        "board = [[0,0,0,0,0],\n",
        "         [0,0,1,0,3],\n",
        "         [0,2,5,0,1],\n",
        "         [4,2,4,4,2],\n",
        "         [3,5,1,3,1]]\n",
        "\n",
        "moves = [1,5,3,5,1,2,1,4]\n",
        "result = []\n",
        "result1 = []\n",
        "sum = 0\n",
        "count = 0\n",
        "print(type(board))\n",
        "for i in moves:\n",
        "  for j in range(len(board)):\n",
        "    if board[j][i-1] != 0 :\n",
        "      result.append(board[j].pop(i-1))\n",
        "      board[j].insert(i-1,0)\n",
        "      for i in range(len(result)):\n",
        "       if i+1 < len(result):\n",
        "          if result[i] == result[i+1]:\n",
        "            del result[i:i+2]\n",
        "            sum+=2\n",
        "      break\n",
        "\n",
        "print(\"sum  = {0}\".format(sum))\n",
        "print(\"result  = {0}\".format(result))\n",
        "print(\"board = {0}\".format(board))"
      ],
      "execution_count": 77,
      "outputs": [
        {
          "output_type": "stream",
          "text": [
            "<class 'list'>\n",
            "sum  = 4\n",
            "result  = [4, 2, 4]\n",
            "board = [[0, 0, 0, 0, 0], [0, 0, 0, 0, 0], [0, 0, 5, 0, 0], [0, 2, 4, 0, 2], [0, 5, 1, 3, 1]]\n"
          ],
          "name": "stdout"
        }
      ]
    }
  ]
}