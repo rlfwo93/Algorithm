{
  "nbformat": 4,
  "nbformat_minor": 0,
  "metadata": {
    "colab": {
      "name": "Untitled71.ipynb",
      "provenance": [],
      "authorship_tag": "ABX9TyNyXb7f7n+qFfmz6UzO26/2",
      "include_colab_link": true
    },
    "kernelspec": {
      "name": "python3",
      "display_name": "Python 3"
    },
    "language_info": {
      "name": "python"
    }
  },
  "cells": [
    {
      "cell_type": "markdown",
      "metadata": {
        "id": "view-in-github",
        "colab_type": "text"
      },
      "source": [
        "<a href=\"https://colab.research.google.com/github/rlfwo93/algorism/blob/main/Untitled71.ipynb\" target=\"_parent\"><img src=\"https://colab.research.google.com/assets/colab-badge.svg\" alt=\"Open In Colab\"/></a>"
      ]
    },
    {
      "cell_type": "code",
      "metadata": {
        "id": "SMT4Qelu_XmF"
      },
      "source": [
        "def solution(number, k):\n",
        "    answer = ''\n",
        "    count = 0 \n",
        "\n",
        "    for i in range(len(number)):\n",
        "      for j in range(i+1,len(number)):\n",
        "          if number[i] < number[j]:\n",
        "            answer+=number[i]\n",
        "            coun\n",
        "\n",
        "\n",
        "    return answer\n",
        "\n",
        "\n",
        "solution(\"1924\",2)"
      ],
      "execution_count": null,
      "outputs": []
    },
    {
      "cell_type": "code",
      "metadata": {
        "colab": {
          "base_uri": "https://localhost:8080/"
        },
        "id": "TyLSFVwNBaei",
        "outputId": "1e7f0fed-1376-4ab8-d692-579592eadd2a"
      },
      "source": [
        "arr = [4,1,7,7,2,5,2,8,4,1]\n",
        "\n",
        "def quick_sort(arr):\n",
        "    if len(arr) <=1:\n",
        "        return arr\n",
        "    pivot = arr[0]\n",
        "    small, equal, big = [], [], []\n",
        "    for num in arr:\n",
        "        if num < pivot:\n",
        "            small.append(num)\n",
        "        elif num > pivot:\n",
        "            big.append(num)\n",
        "        else:\n",
        "            equal.append(num)\n",
        "\n",
        "\n",
        "    return quick_sort(big) + equal + quick_sort(small) # 재귀법을 통하여 계산\n",
        "\n",
        "quick_sort(arr)"
      ],
      "execution_count": 8,
      "outputs": [
        {
          "output_type": "execute_result",
          "data": {
            "text/plain": [
              "[8, 7, 7, 5, 4, 4, 2, 2, 1, 1]"
            ]
          },
          "metadata": {
            "tags": []
          },
          "execution_count": 8
        }
      ]
    },
    {
      "cell_type": "code",
      "metadata": {
        "colab": {
          "base_uri": "https://localhost:8080/",
          "height": 35
        },
        "id": "xnBJlIKKUbPx",
        "outputId": "56951976-661d-4936-b47e-8700d6e4725d"
      },
      "source": [
        "li = \"1942\"\n",
        "k = 2\n",
        "count = \"\"\n",
        "for i in li :\n",
        "  for j in range(int(i)+1,len(li)):\n",
        "    if li.index(i) > li.index(li[j]) and li[int(i)] > li[j]:\n",
        "      count+=li[i]\n",
        "count"
      ],
      "execution_count": 15,
      "outputs": [
        {
          "output_type": "execute_result",
          "data": {
            "application/vnd.google.colaboratory.intrinsic+json": {
              "type": "string"
            },
            "text/plain": [
              "''"
            ]
          },
          "metadata": {
            "tags": []
          },
          "execution_count": 15
        }
      ]
    }
  ]
}