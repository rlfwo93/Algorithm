{
  "nbformat": 4,
  "nbformat_minor": 0,
  "metadata": {
    "colab": {
      "name": "Untitled71.ipynb의 사본",
      "provenance": [],
      "authorship_tag": "ABX9TyPSoTPmMtDBbO2EVvGih7GK",
      "include_colab_link": true
    },
    "kernelspec": {
      "name": "python3",
      "display_name": "Python 3"
    },
    "language_info": {
      "name": "python"
    }
  },
  "cells": [
    {
      "cell_type": "markdown",
      "metadata": {
        "id": "view-in-github",
        "colab_type": "text"
      },
      "source": [
        "<a href=\"https://colab.research.google.com/github/rlfwo93/algorism/blob/main/Untitled71_ipynb%EC%9D%98_%EC%82%AC%EB%B3%B8.ipynb\" target=\"_parent\"><img src=\"https://colab.research.google.com/assets/colab-badge.svg\" alt=\"Open In Colab\"/></a>"
      ]
    },
    {
      "cell_type": "code",
      "metadata": {
        "colab": {
          "base_uri": "https://localhost:8080/"
        },
        "id": "xnBJlIKKUbPx",
        "outputId": "6f963cce-a09b-45ef-d66c-e06ca0cd6890"
      },
      "source": [
        "li = \"1231234\"\n",
        "k = 3\n",
        "result = []\n",
        "result1 =[]\n",
        "an =\"\"\n",
        "\n",
        "count =0\n",
        "na = len(li)//2\n",
        "a = li[:na]\n",
        "b = li[na:]\n",
        "\n",
        "\n",
        "for i in a:\n",
        "  if count !=k:\n",
        "    if len(result) == 0:\n",
        "      result.append(i)\n",
        "    else:\n",
        "      if result[-1]>i:\n",
        "        result.append(i)\n",
        "        count+=1\n",
        "\n",
        "  print(\"result = {0}\".format(result))\n",
        "  print(\"count = {0}\".format(count))\n",
        "\n",
        "for i in b:\n",
        "  if count != k:\n",
        "    if len(result1) == 0:\n",
        "      result1.append(i)\n",
        "    else:\n",
        "      if result1[-1]>i:\n",
        "        result1.append(i)\n",
        "        count+=1\n",
        "\n",
        "an1 = result+result1\n",
        "print(result)\n",
        "print(result1)\n",
        "print(an1)"
      ],
      "execution_count": null,
      "outputs": [
        {
          "output_type": "stream",
          "text": [
            "result = ['1']\n",
            "count = 0\n",
            "result = ['1', '2']\n",
            "count = 1\n",
            "result = ['1', '2', '3']\n",
            "count = 2\n",
            "['1', '2', '3']\n",
            "['1']\n",
            "['1', '2', '3', '1']\n"
          ],
          "name": "stdout"
        }
      ]
    },
    {
      "cell_type": "code",
      "metadata": {
        "colab": {
          "base_uri": "https://localhost:8080/",
          "height": 141
        },
        "id": "CQogLEQpLn8O",
        "outputId": "e939a5d0-7294-48cc-ae58-8b02e9023e33"
      },
      "source": [
        "li = \"4177252841\"\n",
        "k = 4\n",
        "result = \"\"\n",
        "result1 =[]\n",
        "an =\"\"\n",
        "count = 0\n",
        "a = li[:len(li)//2]\n",
        "b = li[len(li)//2:]\n",
        "\n",
        "a+=\"\"\n",
        "b+=\"\"\n",
        "\n",
        "print(\"a = {0}\".format(a))\n",
        "print(\"b= {0}\".format(b))\n",
        "\n",
        "for i in range(len(a)-1):\n",
        "  for j in range(i,len(a)-1):\n",
        "    if count!= k :\n",
        "      if a[i] < a[j+1]:\n",
        "        a = a.replace(a[i],\" \")\n",
        "        print(\"re_a = {0}\".format(a))\n",
        "        count+=1\n",
        "        break\n",
        "      else:\n",
        "        \n",
        "\n",
        "for i in range(len(b)-1):\n",
        "  for j in range(i+1,len(b)-1):\n",
        "    if count!= k :\n",
        "      if b[i] < b[j]  :\n",
        "        b = b.replace(b[i],\" \")\n",
        "        print(\"re_b = {0}\".format(b))\n",
        "        count+=1\n",
        "        break\n",
        "\n",
        "result = a+b\n",
        "\n",
        "result\n",
        "  "
      ],
      "execution_count": null,
      "outputs": [
        {
          "output_type": "stream",
          "text": [
            "a = 41772\n",
            "b= 52841\n",
            "re_a =  1772\n",
            "re_a =   772\n",
            "re_b =  2841\n",
            "re_b =   841\n"
          ],
          "name": "stdout"
        },
        {
          "output_type": "execute_result",
          "data": {
            "application/vnd.google.colaboratory.intrinsic+json": {
              "type": "string"
            },
            "text/plain": [
              "'  772  841'"
            ]
          },
          "metadata": {
            "tags": []
          },
          "execution_count": 115
        }
      ]
    },
    {
      "cell_type": "code",
      "metadata": {
        "colab": {
          "base_uri": "https://localhost:8080/",
          "height": 246
        },
        "id": "H1K2ONNJRCrd",
        "outputId": "ae389336-915d-453c-f259-a52518f8100d"
      },
      "source": [
        "li = \"4177252841\"\n",
        "k = 4\n",
        "result = \"\"\n",
        "count = 0\n",
        "a = li[:len(li)//2]\n",
        "b = li[len(li)//2:]\n",
        "sel1 = a[0]\n",
        "sel2 = b[0]\n",
        "\n",
        "for i in range(1,len(a)):\n",
        "  if count!= k :\n",
        "    if sel1 > a[i]:\n",
        "      a = a.replace(a[i],\" \")\n",
        "      print(\"re_a = {0}\".format(a))\n",
        "      count+=1     \n",
        "    else:\n",
        "      if a[0] != \" \":\n",
        "        count+=1\n",
        "        a = a.replace(a[0],\" \")\n",
        "      \n",
        "      sel1 = a[i]\n",
        "      \n",
        "    print(\"count = {0}\".format(count))  \n",
        "    print(\"sel1 = {0}\".format(sel1))\n",
        "      \n",
        "   \n",
        "\n",
        "for i in range(1,len(b)):\n",
        "  if count!= k :\n",
        "    if sel2 > b[i]:\n",
        "      b = b.replace(b[i],\" \")\n",
        "      print(\"re_b = {0}\".format(b))\n",
        "      count+=1\n",
        "      print(\"count1 = {0}\".format(count))\n",
        "    else:\n",
        "      if b[0] != \" \":\n",
        "        count+=1\n",
        "        b = b.replace(b[0], \" \")\n",
        "      b = b.replace(sel2, \" \")\n",
        "      sel2 = b[i]\n",
        "     \n",
        "   \n",
        "\n",
        "result = a+b\n",
        "\n",
        "result"
      ],
      "execution_count": null,
      "outputs": [
        {
          "output_type": "stream",
          "text": [
            "re_a = 4 772\n",
            "count = 1\n",
            "sel1 = 4\n",
            "count = 2\n",
            "sel1 = 7\n",
            "count = 2\n",
            "sel1 = 7\n",
            "re_a =   77 \n",
            "count = 3\n",
            "sel1 = 7\n",
            "re_b = 5 841\n",
            "count1 = 4\n"
          ],
          "name": "stdout"
        },
        {
          "output_type": "execute_result",
          "data": {
            "application/vnd.google.colaboratory.intrinsic+json": {
              "type": "string"
            },
            "text/plain": [
              "'  77 5 841'"
            ]
          },
          "metadata": {
            "tags": []
          },
          "execution_count": 190
        }
      ]
    },
    {
      "cell_type": "code",
      "metadata": {
        "id": "kl0uGaRnZnqL"
      },
      "source": [
        ""
      ],
      "execution_count": null,
      "outputs": []
    }
  ]
}