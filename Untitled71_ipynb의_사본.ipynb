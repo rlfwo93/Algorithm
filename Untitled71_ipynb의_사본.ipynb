{
  "nbformat": 4,
  "nbformat_minor": 0,
  "metadata": {
    "colab": {
      "name": "Untitled71.ipynb의 사본",
      "provenance": [],
      "authorship_tag": "ABX9TyNhrrZUb2f+E+LJ0UjIPwS1",
      "include_colab_link": true
    },
    "kernelspec": {
      "name": "python3",
      "display_name": "Python 3"
    },
    "language_info": {
      "name": "python"
    }
  },
  "cells": [
    {
      "cell_type": "markdown",
      "metadata": {
        "id": "view-in-github",
        "colab_type": "text"
      },
      "source": [
        "<a href=\"https://colab.research.google.com/github/rlfwo93/algorism/blob/main/Untitled71_ipynb%EC%9D%98_%EC%82%AC%EB%B3%B8.ipynb\" target=\"_parent\"><img src=\"https://colab.research.google.com/assets/colab-badge.svg\" alt=\"Open In Colab\"/></a>"
      ]
    },
    {
      "cell_type": "code",
      "metadata": {
        "colab": {
          "base_uri": "https://localhost:8080/"
        },
        "id": "xnBJlIKKUbPx",
        "outputId": "6f963cce-a09b-45ef-d66c-e06ca0cd6890"
      },
      "source": [
        "li = \"1231234\"\n",
        "k = 3\n",
        "result = []\n",
        "result1 =[]\n",
        "an =\"\"\n",
        "\n",
        "count =0\n",
        "na = len(li)//2\n",
        "a = li[:na]\n",
        "b = li[na:]\n",
        "\n",
        "\n",
        "for i in a:\n",
        "  if count !=k:\n",
        "    if len(result) == 0:\n",
        "      result.append(i)\n",
        "    else:\n",
        "      if result[-1]>i:\n",
        "        result.append(i)\n",
        "        count+=1\n",
        "\n",
        "  print(\"result = {0}\".format(result))\n",
        "  print(\"count = {0}\".format(count))\n",
        "\n",
        "for i in b:\n",
        "  if count != k:\n",
        "    if len(result1) == 0:\n",
        "      result1.append(i)\n",
        "    else:\n",
        "      if result1[-1]>i:\n",
        "        result1.append(i)\n",
        "        count+=1\n",
        "\n",
        "an1 = result+result1\n",
        "print(result)\n",
        "print(result1)\n",
        "print(an1)"
      ],
      "execution_count": null,
      "outputs": [
        {
          "output_type": "stream",
          "text": [
            "result = ['1']\n",
            "count = 0\n",
            "result = ['1', '2']\n",
            "count = 1\n",
            "result = ['1', '2', '3']\n",
            "count = 2\n",
            "['1', '2', '3']\n",
            "['1']\n",
            "['1', '2', '3', '1']\n"
          ],
          "name": "stdout"
        }
      ]
    },
    {
      "cell_type": "code",
      "metadata": {
        "colab": {
          "base_uri": "https://localhost:8080/",
          "height": 251
        },
        "id": "H1K2ONNJRCrd",
        "outputId": "f019bb1a-3f63-41fe-d4bf-97b8cac69198"
      },
      "source": [
        "li = \"4177252841\"\n",
        "k = 4\n",
        "result = \"\"\n",
        "count = 0\n",
        "a = li[:len(li)//2]\n",
        "b = li[len(li)//2:]\n",
        "sel1 = a[0]\n",
        "sel2 = b[0]\n",
        "\n",
        "for i in range(1,len(a)):\n",
        "  if count!= k :\n",
        "    if sel1 > a[i]:\n",
        "      a = a.replace(a[i],\" \",1)\n",
        "      print(\"re_a = {0}\".format(a))\n",
        "      count+=1     \n",
        "    else:\n",
        "      if a[0] != \" \":\n",
        "        count+=1\n",
        "        a = a.replace(a[0],\" \",1)\n",
        "      \n",
        "      sel1 = a[i]\n",
        "      \n",
        "    print(\"count = {0}\".format(count))  \n",
        "    print(\"sel1 = {0}\".format(sel1))\n",
        "      \n",
        "   \n",
        "\n",
        "for i in range(1,len(b)):\n",
        "  if count!= k :\n",
        "    if sel2 > b[i]:\n",
        "      b = b.replace(b[i],\" \")\n",
        "      print(\"re_b = {0}\".format(b))\n",
        "      count+=1\n",
        "      print(\"count1 = {0}\".format(count))\n",
        "    else:\n",
        "      if b[0] != \" \":\n",
        "        count+=1\n",
        "        a = a.replace(b[i],\" \",1)\n",
        "      b = b.replace(sel2, \" \",1)\n",
        "      sel2 = b[i]\n",
        "     \n",
        "   \n",
        "\n",
        "result = a+b\n",
        "\n",
        "result"
      ],
      "execution_count": 133,
      "outputs": [
        {
          "output_type": "stream",
          "text": [
            "re_a = 4 772\n",
            "count = 1\n",
            "sel1 = 4\n",
            "count = 2\n",
            "sel1 = 7\n",
            "count = 2\n",
            "sel1 = 7\n",
            "re_a =   77 \n",
            "count = 3\n",
            "sel1 = 7\n",
            "re_b = 5 841\n",
            "count1 = 4\n"
          ],
          "name": "stdout"
        },
        {
          "output_type": "execute_result",
          "data": {
            "application/vnd.google.colaboratory.intrinsic+json": {
              "type": "string"
            },
            "text/plain": [
              "'  77 5 841'"
            ]
          },
          "metadata": {
            "tags": []
          },
          "execution_count": 133
        }
      ]
    },
    {
      "cell_type": "code",
      "metadata": {
        "id": "kl0uGaRnZnqL",
        "outputId": "8812ad92-4ad3-4ef7-f40f-3cc2db5f2cf3",
        "colab": {
          "base_uri": "https://localhost:8080/",
          "height": 316
        }
      },
      "source": [
        "li = \"4462\"\n",
        "k = 2\n",
        "result = \"\"\n",
        "count = 0\n",
        "f=0\n",
        "s=1\n",
        "print(\"원본li = {0}\".format(li))\n",
        "while count < k :\n",
        "  \n",
        "  if li[f] < li[s]:\n",
        "    li = li.replace(li[f],\"\",1)\n",
        "    print(\"li = {0}\".format(li))\n",
        "    count+=1  \n",
        "\n",
        "  elif li[f] == li[s]:\n",
        "    if li[f]<li[s+1]:\n",
        "      li = li.replace(li[f],\"\",1)\n",
        "      li = li.replace(li[s],\"\",1)\n",
        "    else:\n",
        "      f+=1\n",
        "      s+=1\n",
        "      \n",
        "  \n",
        "  else:\n",
        "    count+=1\n",
        "    li = li.replace(li[s],\"\",1)\n",
        "    print(\"li = {0}\".format(li))\n",
        "  print(\"count = {0}\".format(count))\n",
        " \n",
        "li\n",
        "  \n",
        "\n"
      ],
      "execution_count": 205,
      "outputs": [
        {
          "output_type": "stream",
          "text": [
            "원본li = 4462\n",
            "count = 0\n",
            "li = 4\n",
            "count = 1\n"
          ],
          "name": "stdout"
        },
        {
          "output_type": "error",
          "ename": "IndexError",
          "evalue": "ignored",
          "traceback": [
            "\u001b[0;31m---------------------------------------------------------------------------\u001b[0m",
            "\u001b[0;31mIndexError\u001b[0m                                Traceback (most recent call last)",
            "\u001b[0;32m<ipython-input-205-d71186ce9b8e>\u001b[0m in \u001b[0;36m<module>\u001b[0;34m()\u001b[0m\n\u001b[1;32m      8\u001b[0m \u001b[0;32mwhile\u001b[0m \u001b[0mcount\u001b[0m \u001b[0;34m<\u001b[0m \u001b[0mk\u001b[0m \u001b[0;34m:\u001b[0m\u001b[0;34m\u001b[0m\u001b[0;34m\u001b[0m\u001b[0m\n\u001b[1;32m      9\u001b[0m \u001b[0;34m\u001b[0m\u001b[0m\n\u001b[0;32m---> 10\u001b[0;31m   \u001b[0;32mif\u001b[0m \u001b[0mli\u001b[0m\u001b[0;34m[\u001b[0m\u001b[0mf\u001b[0m\u001b[0;34m]\u001b[0m \u001b[0;34m<\u001b[0m \u001b[0mli\u001b[0m\u001b[0;34m[\u001b[0m\u001b[0ms\u001b[0m\u001b[0;34m]\u001b[0m\u001b[0;34m:\u001b[0m\u001b[0;34m\u001b[0m\u001b[0;34m\u001b[0m\u001b[0m\n\u001b[0m\u001b[1;32m     11\u001b[0m     \u001b[0mli\u001b[0m \u001b[0;34m=\u001b[0m \u001b[0mli\u001b[0m\u001b[0;34m.\u001b[0m\u001b[0mreplace\u001b[0m\u001b[0;34m(\u001b[0m\u001b[0mli\u001b[0m\u001b[0;34m[\u001b[0m\u001b[0mf\u001b[0m\u001b[0;34m]\u001b[0m\u001b[0;34m,\u001b[0m\u001b[0;34m\"\"\u001b[0m\u001b[0;34m,\u001b[0m\u001b[0;36m1\u001b[0m\u001b[0;34m)\u001b[0m\u001b[0;34m\u001b[0m\u001b[0;34m\u001b[0m\u001b[0m\n\u001b[1;32m     12\u001b[0m     \u001b[0mprint\u001b[0m\u001b[0;34m(\u001b[0m\u001b[0;34m\"li = {0}\"\u001b[0m\u001b[0;34m.\u001b[0m\u001b[0mformat\u001b[0m\u001b[0;34m(\u001b[0m\u001b[0mli\u001b[0m\u001b[0;34m)\u001b[0m\u001b[0;34m)\u001b[0m\u001b[0;34m\u001b[0m\u001b[0;34m\u001b[0m\u001b[0m\n",
            "\u001b[0;31mIndexError\u001b[0m: string index out of range"
          ]
        }
      ]
    }
  ]
}