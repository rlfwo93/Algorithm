{
  "nbformat": 4,
  "nbformat_minor": 0,
  "metadata": {
    "colab": {
      "name": "Untitled62.ipynb의 사본",
      "provenance": [],
      "authorship_tag": "ABX9TyOPGAvp+MX0T1a5TpemtaW0",
      "include_colab_link": true
    },
    "kernelspec": {
      "name": "python3",
      "display_name": "Python 3"
    },
    "language_info": {
      "name": "python"
    }
  },
  "cells": [
    {
      "cell_type": "markdown",
      "metadata": {
        "id": "view-in-github",
        "colab_type": "text"
      },
      "source": [
        "<a href=\"https://colab.research.google.com/github/rlfwo93/algorism/blob/main/Untitled62_ipynb%EC%9D%98_%EC%82%AC%EB%B3%B8.ipynb\" target=\"_parent\"><img src=\"https://colab.research.google.com/assets/colab-badge.svg\" alt=\"Open In Colab\"/></a>"
      ]
    },
    {
      "cell_type": "code",
      "metadata": {
        "colab": {
          "base_uri": "https://localhost:8080/"
        },
        "id": "HlJO1OasSRlN",
        "outputId": "87268e27-b951-43b2-f171-856ca3da3a8c"
      },
      "source": [
        "\n",
        "\n",
        "\n",
        "\n",
        "\n"
      ],
      "execution_count": null,
      "outputs": [
        {
          "output_type": "stream",
          "text": [
            "총 컴퓨터의 갯수 : 7\n",
            "연결된 컴퓨터의 갯수 : 6\n",
            "쌍을 입력해라 : 1 2\n",
            "쌍을 입력해라 : 2 3\n",
            "쌍을 입력해라 : 1 5\n",
            "쌍을 입력해라 : 5 2\n",
            "쌍을 입력해라 : 5 6\n",
            "쌍을 입력해라 : 4 7\n"
          ],
          "name": "stdout"
        }
      ]
    },
    {
      "cell_type": "code",
      "metadata": {
        "colab": {
          "base_uri": "https://localhost:8080/"
        },
        "id": "VPQeF2VE7HIz",
        "outputId": "17aa0759-6464-4241-b426-e8e2a8450305"
      },
      "source": [
        "links"
      ],
      "execution_count": null,
      "outputs": [
        {
          "output_type": "execute_result",
          "data": {
            "text/plain": [
              "[[1, 2], [2, 3], [1, 5], [5, 2], [5, 6], [4, 7]]"
            ]
          },
          "metadata": {
            "tags": []
          },
          "execution_count": 168
        }
      ]
    },
    {
      "cell_type": "code",
      "metadata": {
        "colab": {
          "base_uri": "https://localhost:8080/"
        },
        "id": "2G8vrHlTANdz",
        "outputId": "5cd4c66c-bd0d-44d8-ba6a-9c674b8f6004"
      },
      "source": [
        "ac = int(input(\"총 컴퓨터의 갯수 : \"))\n",
        "linkSum = int(input(\"연결된 컴퓨터의 갯수 : \" ))\n",
        "links = []\n",
        "first = []\n",
        "bi = []\n",
        "\n",
        "#쌍을 입력받음\n",
        "for i in range(linkSum):\n",
        "  links.append(list(map(int, input(\"쌍을 입력해라 : \").split(\" \"))))\n",
        "\n",
        "# 감염된 컴퓨터를 구함 \n",
        "for i in range(len(links)):\n",
        "  for j in range(len(links[i])):\n",
        "    if links[i][j] == 1: # 1이 먼저 감염이 됐기때문에 1이라는 값을 가지고 있는 배열을 찾고 추가 .\n",
        "      first += links[i]\n",
        "      links[i] = [0,0]\n",
        "    \n",
        "first = set(first)\n",
        "first = list(first)\n",
        "\n",
        "for f in first:\n",
        "  for i in range(len(links)):\n",
        "    for j in range(len(links[i])):\n",
        "      if f == links[i][j]:\n",
        "        bi+=links[i]\n",
        "\n",
        "bi = set(bi)\n",
        "print(len(bi))"
      ],
      "execution_count": null,
      "outputs": [
        {
          "output_type": "stream",
          "text": [
            "총 컴퓨터의 갯수 : 7\n",
            "연결된 컴퓨터의 갯수 : 6\n",
            "쌍을 입력해라 : 1 2\n",
            "쌍을 입력해라 : 2 3\n",
            "쌍을 입력해라 : 1 5\n",
            "쌍을 입력해라 : 5 2\n",
            "쌍을 입력해라 : 5 6\n",
            "쌍을 입력해라 : 4 7\n",
            "4\n"
          ],
          "name": "stdout"
        }
      ]
    },
    {
      "cell_type": "code",
      "metadata": {
        "id": "f-OnybmeaSfm"
      },
      "source": [
        "def bfs(startnode):\n",
        "  se=[startnode]\n",
        "\n",
        "  if len(se)==0:\n",
        "    print(\"finish\")\n",
        "    return Null\n",
        "  \n",
        "  "
      ],
      "execution_count": null,
      "outputs": []
    },
    {
      "cell_type": "code",
      "metadata": {
        "id": "Ntlsc54wjyry"
      },
      "source": [
        ""
      ],
      "execution_count": null,
      "outputs": []
    },
    {
      "cell_type": "code",
      "metadata": {
        "colab": {
          "base_uri": "https://localhost:8080/"
        },
        "id": "rmOSXN43gVHY",
        "outputId": "b0d9f254-93f6-43ed-e83c-4cf7d6fd2161"
      },
      "source": [
        "def bfs(g, start):\n",
        "\n",
        "    qu = []          # 기억 장소 1: 앞으로 처리해야 할 꼭짓점을 큐에 저장\n",
        "    done = set()     # 기억 장소 2: 이미 큐에 추가한 꼭짓점들을 집합에 기록(중복 방지)\n",
        "\n",
        "    qu.append(start) # 시작점을 큐에 넣고 시작\n",
        "    done.add(start)  # 집합에도 추가\n",
        "\n",
        "\n",
        "    while qu:                 # 큐에 처리할 꼭짓점이 남아 있으면\n",
        "        p = qu.pop(0)         # 큐에서 처리 대상을 꺼내어\n",
        "        print(\"p = {0}\".format(p))              # 꼭짓점 이름을 출력하고\n",
        "        for x in g[p]:        # 대상 꼭짓점에 연결된 꼭짓점들 중에\n",
        "            if x not in done: # 아직 큐에 추가된 적이 없는 꼭짓점들을\n",
        "                qu.append(x)  # 큐에 추가하고\n",
        "                print(\"qu ={0}\".format(qu))\n",
        "                done.add(x)   # 집합에도 추가\n",
        "                print(\"done = {0}\".format(done))\n",
        "    print(\"last_qu ={0}\".format(qu))\n",
        "# 그래프 정보\n",
        "\n",
        "g = {\n",
        "    1: [2, 3],\n",
        "    2: [1, 4, 5],\n",
        "    3: [1],\n",
        "    4: [2],\n",
        "    5: [2]\n",
        "}\n",
        "\n",
        "bfs(g, 1)"
      ],
      "execution_count": 1,
      "outputs": [
        {
          "output_type": "stream",
          "text": [
            "p = 1\n",
            "qu =[2]\n",
            "done = {1, 2}\n",
            "qu =[2, 3]\n",
            "done = {1, 2, 3}\n",
            "p = 2\n",
            "qu =[3, 4]\n",
            "done = {1, 2, 3, 4}\n",
            "qu =[3, 4, 5]\n",
            "done = {1, 2, 3, 4, 5}\n",
            "p = 3\n",
            "p = 4\n",
            "p = 5\n",
            "last_qu =[]\n"
          ],
          "name": "stdout"
        }
      ]
    },
    {
      "cell_type": "code",
      "metadata": {
        "colab": {
          "base_uri": "https://localhost:8080/"
        },
        "id": "90ABRUEYg0e6",
        "outputId": "e9cc1d3f-cc0c-4a02-9c14-6a3921b6bffc"
      },
      "source": [
        "\n",
        "g = {\n",
        "    1: [2, 3],\n",
        "    2: [1, 4, 5],\n",
        "    3: [1],\n",
        "    4: [2],\n",
        "    5: [2]\n",
        "}\n",
        "\n",
        "for x in g[1]:\n",
        "  print(x)"
      ],
      "execution_count": null,
      "outputs": [
        {
          "output_type": "stream",
          "text": [
            "2\n",
            "3\n"
          ],
          "name": "stdout"
        }
      ]
    },
    {
      "cell_type": "code",
      "metadata": {
        "id": "oykvNDOMuLYJ"
      },
      "source": [
        "def bfs(g,start):\n",
        "  a = []  # 판별을 해야하는 것들\n",
        "  b = set() # 판별을 다한 것들\n",
        "\n",
        "  a.append(start)\n",
        "  b.add(strat)\n",
        "\n",
        "  while a:\n",
        "    c = a.pop(0)\n",
        "    for i in g[c]\n",
        "      if i not in g[c]:\n",
        "        a.append(b)\n",
        "        b.add(b)\n",
        "\n"
      ],
      "execution_count": null,
      "outputs": []
    }
  ]
}