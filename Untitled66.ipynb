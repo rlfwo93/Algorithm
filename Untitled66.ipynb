{
  "nbformat": 4,
  "nbformat_minor": 0,
  "metadata": {
    "colab": {
      "name": "Untitled66.ipynb",
      "provenance": [],
      "authorship_tag": "ABX9TyPYt1fNmWgXl0ZHlARumJj5",
      "include_colab_link": true
    },
    "kernelspec": {
      "name": "python3",
      "display_name": "Python 3"
    },
    "language_info": {
      "name": "python"
    }
  },
  "cells": [
    {
      "cell_type": "markdown",
      "metadata": {
        "id": "view-in-github",
        "colab_type": "text"
      },
      "source": [
        "<a href=\"https://colab.research.google.com/github/rlfwo93/algorism/blob/main/Untitled66.ipynb\" target=\"_parent\"><img src=\"https://colab.research.google.com/assets/colab-badge.svg\" alt=\"Open In Colab\"/></a>"
      ]
    },
    {
      "cell_type": "code",
      "metadata": {
        "colab": {
          "base_uri": "https://localhost:8080/"
        },
        "id": "lvmv6l9AkDWA",
        "outputId": "2cc312f2-c0be-4681-aa94-8cea8d5b52aa"
      },
      "source": [
        "def ab():\n",
        "\n",
        "  fs = list(map(int,input(\"값을 입력해라 : \").split(\" \")))\n",
        "  ss = list(map(int,input(\"값을 입력해라 : \").split(\" \")))\n",
        "  print(\"fs = {0}\".format(fs))\n",
        "  print(\"ss = {0}\".format(ss))\n",
        "\n",
        "\n",
        "  if fs[2] == ss[2] and fs[3] == ss[3] or  \n",
        "\n",
        "  elif fs[1] >= ss[1] and fs[2] > ss[1] : # FACE \n",
        "    print(\"FACE\") \n",
        "\n",
        "  \n",
        "  \n",
        "\n",
        "\n",
        "\n",
        "\n",
        "ab()"
      ],
      "execution_count": 34,
      "outputs": [
        {
          "output_type": "stream",
          "text": [
            "값을 입력해라 : 3 5 9 10\n",
            "값을 입력해라 : 5 4 8 11\n",
            "fs = [3, 5, 9, 10]\n",
            "ss = [5, 4, 8, 11]\n",
            "FACE\n"
          ],
          "name": "stdout"
        }
      ]
    },
    {
      "cell_type": "code",
      "metadata": {
        "id": "9REGD9NoRFDs"
      },
      "source": [
        ""
      ],
      "execution_count": null,
      "outputs": []
    }
  ]
}